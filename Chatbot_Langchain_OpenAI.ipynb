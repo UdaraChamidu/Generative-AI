{
  "nbformat": 4,
  "nbformat_minor": 0,
  "metadata": {
    "colab": {
      "provenance": [],
      "authorship_tag": "ABX9TyO3DDHwxbMj8ta1g1t7z/FC",
      "include_colab_link": true
    },
    "kernelspec": {
      "name": "python3",
      "display_name": "Python 3"
    },
    "language_info": {
      "name": "python"
    }
  },
  "cells": [
    {
      "cell_type": "markdown",
      "metadata": {
        "id": "view-in-github",
        "colab_type": "text"
      },
      "source": [
        "<a href=\"https://colab.research.google.com/github/UdaraChamidu/Generative-AI/blob/main/Chatbot_Langchain_OpenAI.ipynb\" target=\"_parent\"><img src=\"https://colab.research.google.com/assets/colab-badge.svg\" alt=\"Open In Colab\"/></a>"
      ]
    },
    {
      "cell_type": "code",
      "execution_count": 1,
      "metadata": {
        "colab": {
          "base_uri": "https://localhost:8080/"
        },
        "id": "0cxOCQAOD0zP",
        "outputId": "1ef19e2c-be0d-412f-d42f-5b3ace3ca5c7"
      },
      "outputs": [
        {
          "output_type": "stream",
          "name": "stdout",
          "text": [
            "\n",
            "Usage:   \n",
            "  pip3 install [options] <requirement specifier> [package-index-options] ...\n",
            "  pip3 install [options] -r <requirements file> [package-index-options] ...\n",
            "  pip3 install [options] [-e] <vcs project url> ...\n",
            "  pip3 install [options] [-e] <local project path> ...\n",
            "  pip3 install [options] <archive url/path> ...\n",
            "\n",
            "no such option: -u\n",
            "\u001b[2K   \u001b[90m━━━━━━━━━━━━━━━━━━━━━━━━━━━━━━━━━━━━━━━━\u001b[0m \u001b[32m61.3/61.3 kB\u001b[0m \u001b[31m4.9 MB/s\u001b[0m eta \u001b[36m0:00:00\u001b[0m\n",
            "\u001b[2K   \u001b[90m━━━━━━━━━━━━━━━━━━━━━━━━━━━━━━━━━━━━━━━━\u001b[0m \u001b[32m1.2/1.2 MB\u001b[0m \u001b[31m55.8 MB/s\u001b[0m eta \u001b[36m0:00:00\u001b[0m\n",
            "\u001b[?25h"
          ]
        }
      ],
      "source": [
        "# install packeges\n",
        "!pip install langchain -qu\n",
        "!pip install langchain-openai -qU"
      ]
    },
    {
      "cell_type": "code",
      "source": [
        "# import necaessary libraries\n",
        "import os\n",
        "from google.colab import userdata # this need only we have hide our secreat keys.\n",
        "\n"
      ],
      "metadata": {
        "id": "QSEo7oP0EiRb"
      },
      "execution_count": 2,
      "outputs": []
    },
    {
      "cell_type": "markdown",
      "source": [
        "# Initialize LLM"
      ],
      "metadata": {
        "id": "O5Hj20LgFXA4"
      }
    },
    {
      "cell_type": "code",
      "source": [
        "from langchain_openai import ChatOpenAI\n",
        "\n",
        "# set api key as an environment variable\n",
        "os.environ['OPENAI_API_KEY'] = userdata.get('OPENAI_API_KEY')\n",
        "# if u havent hide the api key, u can directly type api key after '='.\n",
        "\n",
        "llm = ChatOpenAI(\n",
        "    model_name='gpt-3.5-turbo',\n",
        "    temperature=0\n",
        "    )\n",
        "\n",
        "\n"
      ],
      "metadata": {
        "id": "bO6zy0IsFAPM"
      },
      "execution_count": 3,
      "outputs": []
    },
    {
      "cell_type": "markdown",
      "source": [
        "# Initialize Prompt Template"
      ],
      "metadata": {
        "id": "AqKuYfolGfgd"
      }
    },
    {
      "cell_type": "code",
      "source": [
        "# to send messages\n",
        "from langchain_core.prompts import ChatPromptTemplate\n",
        "\n",
        "# create  a prompt template\n",
        "prompt = ChatPromptTemplate.from_messages(\n",
        "    [\n",
        "        (\"system\", \"You are an intelligent chatbot. Answer the following questions.\"), # a system message\n",
        "        (\"user\",\"{question}\")  # this is an  user message. user message is actually the question.\n",
        "    ]\n",
        ")\n",
        "\n",
        "# user and system letters consider. all should lowercase.\n",
        "\n"
      ],
      "metadata": {
        "id": "gGnpjSLgGXdW"
      },
      "execution_count": 4,
      "outputs": []
    },
    {
      "cell_type": "markdown",
      "source": [
        "# initialize output parser"
      ],
      "metadata": {
        "id": "gOQfz3TKIvN1"
      }
    },
    {
      "cell_type": "code",
      "source": [
        "from langchain_core.output_parsers import StrOutputParser\n",
        "\n",
        "# string output parser(not essential to here)\n",
        "parser = StrOutputParser()"
      ],
      "metadata": {
        "id": "W1FtdamoHm4q"
      },
      "execution_count": 5,
      "outputs": []
    },
    {
      "cell_type": "markdown",
      "source": [
        "# Make the chain"
      ],
      "metadata": {
        "id": "t_rggD0tJkcr"
      }
    },
    {
      "cell_type": "code",
      "source": [
        " chain = prompt | llm | parser"
      ],
      "metadata": {
        "id": "U8CIG_glJhcv"
      },
      "execution_count": 6,
      "outputs": []
    },
    {
      "cell_type": "markdown",
      "source": [
        "# Test using basic questions"
      ],
      "metadata": {
        "id": "yg_h6MwbJvmN"
      }
    },
    {
      "cell_type": "code",
      "source": [
        "question = \"My name is udara !\" # asking questions\n",
        "response = chain.invoke({\"question\":question})\n",
        "print(response)\n"
      ],
      "metadata": {
        "colab": {
          "base_uri": "https://localhost:8080/"
        },
        "id": "xocZBOaFJs1w",
        "outputId": "1528f93a-d07e-402c-912b-1806fc0445a0"
      },
      "execution_count": 7,
      "outputs": [
        {
          "output_type": "stream",
          "name": "stdout",
          "text": [
            "Hello Udara! How can I assist you today?\n"
          ]
        }
      ]
    },
    {
      "cell_type": "markdown",
      "source": [
        "# Use prompt template"
      ],
      "metadata": {
        "id": "1FgGmlDirMqk"
      }
    },
    {
      "cell_type": "code",
      "source": [
        "# make some changes of the prompt\n",
        "# we can give messages as a list\n",
        "# system, Ai, user messages...\n",
        "# we store the \"question\" in the place holder.\n",
        "\n",
        "from langchain_core.prompts import MessagesPlaceholder\n",
        "from langchain_core.messages import HumanMessage, AIMessage, SystemMessage\n",
        "\n",
        "prompt = ChatPromptTemplate.from_messages(\n",
        "    [\n",
        "        SystemMessage(content = \"You are an intelligent chatbot. Answer the following questions.\"), # a system message\n",
        "        MessagesPlaceholder(variable_name=\"question\")  # can store some messages (here only question)\n",
        "    ]\n",
        ")"
      ],
      "metadata": {
        "id": "uDu_9cg6cKpc"
      },
      "execution_count": 8,
      "outputs": []
    },
    {
      "cell_type": "code",
      "source": [
        "# again chain\n",
        "chain = prompt | llm | parser"
      ],
      "metadata": {
        "id": "8FcHCkc-eCsg"
      },
      "execution_count": 9,
      "outputs": []
    },
    {
      "cell_type": "code",
      "source": [
        "question = \"My name is Udara .. . \"\n",
        "response = chain.invoke({\"question\": [HumanMessage(content=question)]})\n",
        "print(response)"
      ],
      "metadata": {
        "colab": {
          "base_uri": "https://localhost:8080/"
        },
        "id": "TDw4-nJpeH0G",
        "outputId": "558a99b6-b29a-4057-b95d-3b6886b91055"
      },
      "execution_count": 10,
      "outputs": [
        {
          "output_type": "stream",
          "name": "stdout",
          "text": [
            "Hello Udara! How can I assist you today?\n"
          ]
        }
      ]
    },
    {
      "cell_type": "code",
      "source": [
        "# above i told my name but when i asked my name again, it can not give my name as output.\n",
        "# because there is not a memory\n",
        "question = \"who am I\"\n",
        "response = chain.invoke({\"question\": [HumanMessage(content=question)]})\n",
        "print(response)"
      ],
      "metadata": {
        "colab": {
          "base_uri": "https://localhost:8080/"
        },
        "id": "xfuSrXjAer5q",
        "outputId": "465818b0-6f4e-416d-f14b-8ebc6cdd38d8"
      },
      "execution_count": 11,
      "outputs": [
        {
          "output_type": "stream",
          "name": "stdout",
          "text": [
            "I'm sorry, but I don't have access to personal information about users. How can I assist you today?\n"
          ]
        }
      ]
    },
    {
      "cell_type": "code",
      "source": [
        "# with history\n",
        "\n",
        "prompt = ChatPromptTemplate.from_messages(\n",
        "    [\n",
        "        SystemMessage(content = \"You are an intelligent chatbot. Answer the following questions.\"), # a system message\n",
        "        HumanMessage(content=\"My name is Udara ... \"),       # human message\n",
        "        AIMessage(content=\"Nice to meet you, udara ! How can I assist you today ? \"),\n",
        "        MessagesPlaceholder(variable_name=\"question\")  # can store some messages (here only question\n",
        "    ]\n",
        ")"
      ],
      "metadata": {
        "id": "2t6ONgwVhCkb"
      },
      "execution_count": 12,
      "outputs": []
    },
    {
      "cell_type": "code",
      "source": [
        "chain = prompt | llm | parser"
      ],
      "metadata": {
        "id": "IL6rnNobiT71"
      },
      "execution_count": 13,
      "outputs": []
    },
    {
      "cell_type": "code",
      "source": [
        "question = \"who am I\"\n",
        "response = chain.invoke({\"question\": [HumanMessage(content=question)]})\n",
        "print(response)\n",
        "\n",
        "# after this code the model can memorize my name."
      ],
      "metadata": {
        "colab": {
          "base_uri": "https://localhost:8080/"
        },
        "id": "-ZHFeebQiXFu",
        "outputId": "f3640f30-272a-44af-cc2e-932b97627243"
      },
      "execution_count": 14,
      "outputs": [
        {
          "output_type": "stream",
          "name": "stdout",
          "text": [
            "You are Udara, a user interacting with me right now.\n"
          ]
        }
      ]
    },
    {
      "cell_type": "code",
      "source": [
        "# we can not give the codes mannually every time like above code.\n",
        "#\n",
        "\n",
        "prompt = ChatPromptTemplate.from_messages(\n",
        "    [\n",
        "        SystemMessage(content = \"You are an intelligent chatbot. Answer the following questions.\"), # a system message\n",
        "        MessagesPlaceholder(variable_name=\"history\"),  # can store some messages (here only history)\n",
        "        MessagesPlaceholder(variable_name=\"question\")  # can store some messages (here only question)\n",
        "    ]\n",
        ")"
      ],
      "metadata": {
        "id": "aokS1Jz7iuG0"
      },
      "execution_count": 15,
      "outputs": []
    },
    {
      "cell_type": "code",
      "source": [
        "# create the history (variable)\n",
        "# if we dont need, we can use an empty history\n",
        "history = [\n",
        "    HumanMessage(content=\"My name is Udara ... \"),       # human message\n",
        "    AIMessage(content=\"Nice to meet you, udara ! How can I assist you today ? \"),\n",
        "    HumanMessage(content=\"what is 2+2\"),\n",
        "    AIMessage(content=\"4\")\n",
        "]\n"
      ],
      "metadata": {
        "id": "-kq7Oa7IkGzS"
      },
      "execution_count": 16,
      "outputs": []
    },
    {
      "cell_type": "code",
      "source": [
        "# now history has added to the prompt\n",
        "chain = prompt | llm | parser"
      ],
      "metadata": {
        "id": "bdLYEitLkjna"
      },
      "execution_count": 17,
      "outputs": []
    },
    {
      "cell_type": "code",
      "source": [
        "question = \"who am I\"\n",
        "response = chain.invoke({\"history\": history, \"question\": [HumanMessage(content=question)]})\n",
        "print(response)\n",
        "\n",
        "# after this code the model can memorize my name. (like previous)"
      ],
      "metadata": {
        "colab": {
          "base_uri": "https://localhost:8080/"
        },
        "id": "odaknAZjlCUv",
        "outputId": "75c89a02-b06b-46bb-f701-255510a7b1a1"
      },
      "execution_count": 18,
      "outputs": [
        {
          "output_type": "stream",
          "name": "stdout",
          "text": [
            "You are Udara.\n"
          ]
        }
      ]
    },
    {
      "cell_type": "code",
      "source": [
        "history\n",
        "\n",
        "# new things are not addded to the history.\n",
        "# who am i, had not added to the history."
      ],
      "metadata": {
        "colab": {
          "base_uri": "https://localhost:8080/"
        },
        "id": "aEUYBQ_mlF6e",
        "outputId": "4a61e2f9-c516-4900-e92a-ba8c01c65708"
      },
      "execution_count": 19,
      "outputs": [
        {
          "output_type": "execute_result",
          "data": {
            "text/plain": [
              "[HumanMessage(content='My name is Udara ... ', additional_kwargs={}, response_metadata={}),\n",
              " AIMessage(content='Nice to meet you, udara ! How can I assist you today ? ', additional_kwargs={}, response_metadata={}),\n",
              " HumanMessage(content='what is 2+2', additional_kwargs={}, response_metadata={}),\n",
              " AIMessage(content='4', additional_kwargs={}, response_metadata={})]"
            ]
          },
          "metadata": {},
          "execution_count": 19
        }
      ]
    },
    {
      "cell_type": "code",
      "source": [
        "# extend, add the latest message and response to the history\n",
        "\n",
        "history.extend([HumanMessage(content=question), AIMessage(content=response)])"
      ],
      "metadata": {
        "id": "C46eub6ulOF7"
      },
      "execution_count": 20,
      "outputs": []
    },
    {
      "cell_type": "code",
      "source": [
        "history"
      ],
      "metadata": {
        "colab": {
          "base_uri": "https://localhost:8080/"
        },
        "id": "571Lgtdul1ZD",
        "outputId": "46828c28-f195-4ac4-a98d-784cc410ee0e"
      },
      "execution_count": 21,
      "outputs": [
        {
          "output_type": "execute_result",
          "data": {
            "text/plain": [
              "[HumanMessage(content='My name is Udara ... ', additional_kwargs={}, response_metadata={}),\n",
              " AIMessage(content='Nice to meet you, udara ! How can I assist you today ? ', additional_kwargs={}, response_metadata={}),\n",
              " HumanMessage(content='what is 2+2', additional_kwargs={}, response_metadata={}),\n",
              " AIMessage(content='4', additional_kwargs={}, response_metadata={}),\n",
              " HumanMessage(content='who am I', additional_kwargs={}, response_metadata={}),\n",
              " AIMessage(content='You are Udara.', additional_kwargs={}, response_metadata={})]"
            ]
          },
          "metadata": {},
          "execution_count": 21
        }
      ]
    },
    {
      "cell_type": "code",
      "source": [
        "question = \"what is my last question ?\"\n",
        "response = chain.invoke({\"history\": history,\n",
        "                         \"question\": [HumanMessage(content=question)]}\n",
        ")\n",
        "history.extend([HumanMessage(content=question), AIMessage(content=response)])\n",
        "# extend the human and AI messeages at once when they comes ...\n",
        "print(response)"
      ],
      "metadata": {
        "colab": {
          "base_uri": "https://localhost:8080/"
        },
        "id": "1R1re_Nfl269",
        "outputId": "e71140b8-cb19-4f5a-f45e-288f922fcf6e"
      },
      "execution_count": 22,
      "outputs": [
        {
          "output_type": "stream",
          "name": "stdout",
          "text": [
            "Your last question was \"who am I\".\n"
          ]
        }
      ]
    },
    {
      "cell_type": "code",
      "source": [
        "# display the last 4 interactions... (last 4 messages)\n",
        "history[-4:]"
      ],
      "metadata": {
        "colab": {
          "base_uri": "https://localhost:8080/"
        },
        "id": "c4W7F8Pvm4o2",
        "outputId": "1d77ffaf-6d7d-4c5b-b8f9-a3c44cc4d4c5"
      },
      "execution_count": 23,
      "outputs": [
        {
          "output_type": "execute_result",
          "data": {
            "text/plain": [
              "[HumanMessage(content='who am I', additional_kwargs={}, response_metadata={}),\n",
              " AIMessage(content='You are Udara.', additional_kwargs={}, response_metadata={}),\n",
              " HumanMessage(content='what is my last question ?', additional_kwargs={}, response_metadata={}),\n",
              " AIMessage(content='Your last question was \"who am I\".', additional_kwargs={}, response_metadata={})]"
            ]
          },
          "metadata": {},
          "execution_count": 23
        }
      ]
    }
  ]
}
