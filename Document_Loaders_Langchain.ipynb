{
  "nbformat": 4,
  "nbformat_minor": 0,
  "metadata": {
    "colab": {
      "provenance": [],
      "authorship_tag": "ABX9TyMBXuEebGOSAsnGpSbF/CpI",
      "include_colab_link": true
    },
    "kernelspec": {
      "name": "python3",
      "display_name": "Python 3"
    },
    "language_info": {
      "name": "python"
    }
  },
  "cells": [
    {
      "cell_type": "markdown",
      "metadata": {
        "id": "view-in-github",
        "colab_type": "text"
      },
      "source": [
        "<a href=\"https://colab.research.google.com/github/UdaraChamidu/Generative-AI/blob/main/Document_Loaders_Langchain.ipynb\" target=\"_parent\"><img src=\"https://colab.research.google.com/assets/colab-badge.svg\" alt=\"Open In Colab\"/></a>"
      ]
    },
    {
      "cell_type": "code",
      "execution_count": 2,
      "metadata": {
        "id": "JMM-g0mRwhaT"
      },
      "outputs": [],
      "source": [
        "# Install the necessary packages\n",
        "!pip install langchain -qU\n",
        "!pip install langchain-community -qU\n"
      ]
    },
    {
      "cell_type": "markdown",
      "source": [
        "# For text files"
      ],
      "metadata": {
        "id": "4dfqbKif_p-j"
      }
    },
    {
      "cell_type": "code",
      "source": [
        "from langchain_community.document_loaders import TextLoader\n",
        "\n",
        "# Initialize the TextLoader with the path to the text file\n",
        "loader = TextLoader(\"example_txt_file.txt\") # loader object created.\n",
        "# give the text file directry\n",
        "\n",
        "# Load the text data\n",
        "txt_data = loader.load() # call the load() method using loader object\n",
        "\n",
        "print(txt_data)\n",
        "# output is coming as a output object.\n",
        "# 2 attributes - page_content and metadata (source)"
      ],
      "metadata": {
        "id": "uLwcxhfKyOq9",
        "colab": {
          "base_uri": "https://localhost:8080/"
        },
        "outputId": "1c331fb1-f24f-4fa2-ba06-7a6f9dc198a5"
      },
      "execution_count": 4,
      "outputs": [
        {
          "output_type": "stream",
          "name": "stdout",
          "text": [
            "[Document(metadata={'source': 'example_txt_file.txt'}, page_content=\"Sri Lanka's national cricket team achieved a historic milestone by winning the ICC Cricket World Cup in 1996. \\nThe team is known for producing cricket legends like Muttiah Muralitharan, the highest wicket-taker in Test cricket history. \\nKumar Sangakkara and Mahela Jayawardene are celebrated for their prolific batting partnerships. \\nSanath Jayasuriya revolutionized one-day cricket with his explosive batting style. \\nThe Galle International Stadium, with its stunning backdrop of the Galle Fort, is one of the world's most picturesque cricket venues. \\nSri Lanka won the ICC T20 World Cup in 2014, demonstrating their prowess in the shortest format of the game. \\nLasith Malinga, famous for his unique bowling action and lethal yorkers, has been a key player in their T20 success. \\nCricket is deeply embedded in Sri Lankan culture, uniting people from all walks of life during major tournaments.\")]\n"
          ]
        }
      ]
    },
    {
      "cell_type": "code",
      "source": [
        "txt_data[0].page_content\n",
        "# used the 0 for the first text file\n",
        "# checked the page content"
      ],
      "metadata": {
        "id": "AIkcH28SyQJF",
        "colab": {
          "base_uri": "https://localhost:8080/",
          "height": 209
        },
        "outputId": "2bc214c8-65ca-417e-b12d-8dce21d6c092"
      },
      "execution_count": 5,
      "outputs": [
        {
          "output_type": "execute_result",
          "data": {
            "text/plain": [
              "\"Sri Lanka's national cricket team achieved a historic milestone by winning the ICC Cricket World Cup in 1996. \\nThe team is known for producing cricket legends like Muttiah Muralitharan, the highest wicket-taker in Test cricket history. \\nKumar Sangakkara and Mahela Jayawardene are celebrated for their prolific batting partnerships. \\nSanath Jayasuriya revolutionized one-day cricket with his explosive batting style. \\nThe Galle International Stadium, with its stunning backdrop of the Galle Fort, is one of the world's most picturesque cricket venues. \\nSri Lanka won the ICC T20 World Cup in 2014, demonstrating their prowess in the shortest format of the game. \\nLasith Malinga, famous for his unique bowling action and lethal yorkers, has been a key player in their T20 success. \\nCricket is deeply embedded in Sri Lankan culture, uniting people from all walks of life during major tournaments.\""
            ],
            "application/vnd.google.colaboratory.intrinsic+json": {
              "type": "string"
            }
          },
          "metadata": {},
          "execution_count": 5
        }
      ]
    },
    {
      "cell_type": "code",
      "source": [
        "txt_data[0].metadata\n",
        "# metadata part checked."
      ],
      "metadata": {
        "id": "xJCC0SgByQLh",
        "colab": {
          "base_uri": "https://localhost:8080/"
        },
        "outputId": "d9582cfc-1998-4f77-ead7-2b7db2842454"
      },
      "execution_count": 6,
      "outputs": [
        {
          "output_type": "execute_result",
          "data": {
            "text/plain": [
              "{'source': 'example_txt_file.txt'}"
            ]
          },
          "metadata": {},
          "execution_count": 6
        }
      ]
    },
    {
      "cell_type": "markdown",
      "source": [
        "# Files in a folder"
      ],
      "metadata": {
        "id": "JD58HhJQ_mdp"
      }
    },
    {
      "cell_type": "code",
      "source": [
        "!pip install unstructured -qU\n",
        "# if there are many files in a folder, we use this"
      ],
      "metadata": {
        "id": "p_LGSUreyQOC"
      },
      "execution_count": 10,
      "outputs": []
    },
    {
      "cell_type": "code",
      "source": [
        "from langchain_community.document_loaders import DirectoryLoader\n",
        "\n",
        "# need directry loader for the path\n",
        "loader = DirectoryLoader(\"sample_data\", glob=\"**/*.txt\")\n",
        "# file type is .txt. so here only load txt files.\n",
        "# give the location of the folder\n",
        "\n",
        "# Load the text data from the directory\n",
        "dataset = loader.load()\n",
        "\n",
        "# there are some files. so we use a for loop to se the data\n",
        "# see metadata and context part\n",
        "for data in dataset:\n",
        "  print(\"------------------------\")\n",
        "  print(data.page_content)\n",
        "  print(data.metadata)"
      ],
      "metadata": {
        "id": "lnmVKD5LyQQq",
        "colab": {
          "base_uri": "https://localhost:8080/"
        },
        "outputId": "4553cf30-f248-4430-de83-aab8e16890b4"
      },
      "execution_count": 28,
      "outputs": [
        {
          "output_type": "stream",
          "name": "stdout",
          "text": [
            "------------------------\n",
            "Sri Lanka's national cricket team achieved a historic milestone by winning the ICC Cricket World Cup in 1996.\n",
            "\n",
            "The team is known for producing cricket legends like Muttiah Muralitharan, the highest wicket-taker in Test cricket history.\n",
            "\n",
            "Kumar Sangakkara and Mahela Jayawardene are celebrated for their prolific batting partnerships.\n",
            "\n",
            "Sanath Jayasuriya revolutionized one-day cricket with his explosive batting style.\n",
            "\n",
            "The Galle International Stadium, with its stunning backdrop of the Galle Fort, is one of the world's most picturesque cricket venues.\n",
            "\n",
            "Sri Lanka won the ICC T20 World Cup in 2014, demonstrating their prowess in the shortest format of the game.\n",
            "\n",
            "Lasith Malinga, famous for his unique bowling action and lethal yorkers, has been a key player in their T20 success.\n",
            "\n",
            "Cricket is deeply embedded in Sri Lankan culture, uniting people from all walks of life during major tournaments.\n",
            "{'source': 'sample_data/example_txt_file.txt'}\n"
          ]
        }
      ]
    },
    {
      "cell_type": "markdown",
      "source": [
        "# Pdf Files"
      ],
      "metadata": {
        "id": "eqNbkqg1_inB"
      }
    },
    {
      "cell_type": "code",
      "source": [
        "!pip install pypdf -qU"
      ],
      "metadata": {
        "id": "PgD_FIQmyQTE"
      },
      "execution_count": 12,
      "outputs": []
    },
    {
      "cell_type": "code",
      "source": [
        "from langchain_community.document_loaders import PyPDFLoader\n",
        "\n",
        "# Initialize the PyPDFLoader with the path to the PDF file\n",
        "loader = PyPDFLoader(\"example_pdf_file.pdf\")\n",
        "\n",
        "# Load the PDF data\n",
        "pdf_data = loader.load()\n",
        "\n",
        "print(pdf_data)"
      ],
      "metadata": {
        "id": "as33y6OOyQWd",
        "colab": {
          "base_uri": "https://localhost:8080/"
        },
        "outputId": "36b3d0bc-e36f-418c-f82e-bd9ba0118f01"
      },
      "execution_count": 13,
      "outputs": [
        {
          "output_type": "stream",
          "name": "stdout",
          "text": [
            "[Document(metadata={'producer': 'Microsoft® Word for Microsoft 365', 'creator': 'Microsoft® Word for Microsoft 365', 'creationdate': '2024-06-17T22:17:35+05:30', 'author': 'Dinesh Piyasamara', 'moddate': '2024-06-17T22:17:35+05:30', 'source': 'example_pdf_file.pdf', 'total_pages': 1, 'page': 0, 'page_label': '1'}, page_content=\"Sri Lanka's national cricket team achieved a historic milestone by winning the ICC Cricket World \\nCup in 1996.  \\nThe team is known for producing cricket legends like Muttiah Muralitharan, the highest wicket-taker \\nin Test cricket history.  \\nKumar Sangakkara and Mahela Jayawardene are celebrated for their prolific batting partnerships.  \\nSanath Jayasuriya revolutionized one-day cricket with his explosive batting style.  \\nThe Galle International Stadium, with its stunning backdrop of the Galle Fort, is one of the world's \\nmost picturesque cricket venues.  \\nSri Lanka won the ICC T20 World Cup in 2014, demonstrating their prowess in the shortest format of \\nthe game.  \\nLasith Malinga, famous for his unique bowling action and lethal yorkers, has been a key player in \\ntheir T20 success.  \\nCricket is deeply embedded in Sri Lankan culture, uniting people from all walks of life during major \\ntournaments.\")]\n"
          ]
        }
      ]
    },
    {
      "cell_type": "code",
      "source": [
        "pdf_data[0].page_content"
      ],
      "metadata": {
        "id": "BZ8ZfCV1yiMz",
        "colab": {
          "base_uri": "https://localhost:8080/",
          "height": 209
        },
        "outputId": "6558d831-8692-46e2-ae79-0ed99c56c1e4"
      },
      "execution_count": 14,
      "outputs": [
        {
          "output_type": "execute_result",
          "data": {
            "text/plain": [
              "\"Sri Lanka's national cricket team achieved a historic milestone by winning the ICC Cricket World \\nCup in 1996.  \\nThe team is known for producing cricket legends like Muttiah Muralitharan, the highest wicket-taker \\nin Test cricket history.  \\nKumar Sangakkara and Mahela Jayawardene are celebrated for their prolific batting partnerships.  \\nSanath Jayasuriya revolutionized one-day cricket with his explosive batting style.  \\nThe Galle International Stadium, with its stunning backdrop of the Galle Fort, is one of the world's \\nmost picturesque cricket venues.  \\nSri Lanka won the ICC T20 World Cup in 2014, demonstrating their prowess in the shortest format of \\nthe game.  \\nLasith Malinga, famous for his unique bowling action and lethal yorkers, has been a key player in \\ntheir T20 success.  \\nCricket is deeply embedded in Sri Lankan culture, uniting people from all walks of life during major \\ntournaments.\""
            ],
            "application/vnd.google.colaboratory.intrinsic+json": {
              "type": "string"
            }
          },
          "metadata": {},
          "execution_count": 14
        }
      ]
    },
    {
      "cell_type": "code",
      "source": [
        "pdf_data[0].metadata"
      ],
      "metadata": {
        "id": "7yEONzyGyiPX",
        "colab": {
          "base_uri": "https://localhost:8080/"
        },
        "outputId": "a582db1d-f11a-425b-effb-a83a8f1797f7"
      },
      "execution_count": 15,
      "outputs": [
        {
          "output_type": "execute_result",
          "data": {
            "text/plain": [
              "{'producer': 'Microsoft® Word for Microsoft 365',\n",
              " 'creator': 'Microsoft® Word for Microsoft 365',\n",
              " 'creationdate': '2024-06-17T22:17:35+05:30',\n",
              " 'author': 'Dinesh Piyasamara',\n",
              " 'moddate': '2024-06-17T22:17:35+05:30',\n",
              " 'source': 'example_pdf_file.pdf',\n",
              " 'total_pages': 1,\n",
              " 'page': 0,\n",
              " 'page_label': '1'}"
            ]
          },
          "metadata": {},
          "execution_count": 15
        }
      ]
    },
    {
      "cell_type": "markdown",
      "source": [
        "# Pdf in a Folder"
      ],
      "metadata": {
        "id": "bzeT_TwEAAXf"
      }
    },
    {
      "cell_type": "code",
      "source": [
        "from langchain_community.document_loaders import PyPDFDirectoryLoader\n",
        "\n",
        "# Initialize the PyPDFDirectoryLoader with the path to the directory containing PDF files\n",
        "loader = PyPDFDirectoryLoader(\"sample_data\")  # folder name or folder path\n",
        "\n",
        "# Load the PDF data from the directory\n",
        "dataset = loader.load()\n",
        "\n",
        "# for all pdfs in the directry\n",
        "for data in dataset:\n",
        "  print(\"------------------------\")\n",
        "  print(data.page_content)\n",
        "  print(data.metadata)"
      ],
      "metadata": {
        "id": "2stiC2vfyiRt",
        "colab": {
          "base_uri": "https://localhost:8080/"
        },
        "outputId": "fcec4967-1bcf-4587-f68a-ecc801ccce9b"
      },
      "execution_count": 16,
      "outputs": [
        {
          "output_type": "stream",
          "name": "stdout",
          "text": [
            "------------------------\n",
            "Sri Lanka's national cricket team achieved a historic milestone by winning the ICC Cricket World \n",
            "Cup in 1996.  \n",
            "The team is known for producing cricket legends like Muttiah Muralitharan, the highest wicket-taker \n",
            "in Test cricket history.  \n",
            "Kumar Sangakkara and Mahela Jayawardene are celebrated for their prolific batting partnerships.  \n",
            "Sanath Jayasuriya revolutionized one-day cricket with his explosive batting style.  \n",
            "The Galle International Stadium, with its stunning backdrop of the Galle Fort, is one of the world's \n",
            "most picturesque cricket venues.  \n",
            "Sri Lanka won the ICC T20 World Cup in 2014, demonstrating their prowess in the shortest format of \n",
            "the game.  \n",
            "Lasith Malinga, famous for his unique bowling action and lethal yorkers, has been a key player in \n",
            "their T20 success.  \n",
            "Cricket is deeply embedded in Sri Lankan culture, uniting people from all walks of life during major \n",
            "tournaments.\n",
            "{'producer': 'Microsoft® Word for Microsoft 365', 'creator': 'Microsoft® Word for Microsoft 365', 'creationdate': '2024-06-17T22:17:35+05:30', 'author': 'Dinesh Piyasamara', 'moddate': '2024-06-17T22:17:35+05:30', 'source': 'sample_data/example_pdf_file.pdf', 'total_pages': 1, 'page': 0, 'page_label': '1'}\n"
          ]
        }
      ]
    },
    {
      "cell_type": "markdown",
      "source": [
        "# Work with csv files"
      ],
      "metadata": {
        "id": "2Atp9AmbAYx8"
      }
    },
    {
      "cell_type": "code",
      "source": [
        "from langchain_community.document_loaders import CSVLoader\n",
        "\n",
        "# Initialize the CSVLoader with the path to the CSV file\n",
        "loader = CSVLoader(\"example_csv_file.csv\")   # csv file location\n",
        "\n",
        "# Load the CSV data\n",
        "csv_data = loader.load()\n",
        "\n",
        "print(csv_data)"
      ],
      "metadata": {
        "id": "LSD1Kn7CyiUH",
        "colab": {
          "base_uri": "https://localhost:8080/"
        },
        "outputId": "c3b40ac3-2f0c-4d6e-b590-f4571c2161b5"
      },
      "execution_count": 19,
      "outputs": [
        {
          "output_type": "stream",
          "name": "stdout",
          "text": [
            "[Document(metadata={'source': 'example_csv_file.csv', 'row': 0}, page_content='\\ufeffname: kamal\\ncity: colombo\\nresult: pass'), Document(metadata={'source': 'example_csv_file.csv', 'row': 1}, page_content='\\ufeffname: saman\\ncity: kandy\\nresult: pass'), Document(metadata={'source': 'example_csv_file.csv', 'row': 2}, page_content='\\ufeffname: pawan\\ncity: jaffna\\nresult: fail'), Document(metadata={'source': 'example_csv_file.csv', 'row': 3}, page_content='\\ufeffname: nimal\\ncity: puttalam\\nresult: fail'), Document(metadata={'source': 'example_csv_file.csv', 'row': 4}, page_content='\\ufeffname: sunil\\ncity: anuradapura\\nresult: pass')]\n"
          ]
        }
      ]
    },
    {
      "cell_type": "code",
      "source": [
        "csv_data[0] # here [0] is the first row\n",
        "\n",
        "# output - kamal,colombo,pass\n",
        "# for second row csv_data[1]"
      ],
      "metadata": {
        "id": "47ME_J0zyiW8",
        "colab": {
          "base_uri": "https://localhost:8080/"
        },
        "outputId": "c9ce91bd-d213-433a-9d49-ea00ff87ca81"
      },
      "execution_count": 22,
      "outputs": [
        {
          "output_type": "execute_result",
          "data": {
            "text/plain": [
              "Document(metadata={'source': 'example_csv_file.csv', 'row': 0}, page_content='\\ufeffname: kamal\\ncity: colombo\\nresult: pass')"
            ]
          },
          "metadata": {},
          "execution_count": 22
        }
      ]
    },
    {
      "cell_type": "code",
      "source": [
        "csv_data[0].page_content"
      ],
      "metadata": {
        "id": "i0kZANnpyiZS",
        "colab": {
          "base_uri": "https://localhost:8080/",
          "height": 36
        },
        "outputId": "41ed3581-45ab-4ca6-d4c4-c466c10ca48d"
      },
      "execution_count": 23,
      "outputs": [
        {
          "output_type": "execute_result",
          "data": {
            "text/plain": [
              "'\\ufeffname: kamal\\ncity: colombo\\nresult: pass'"
            ],
            "application/vnd.google.colaboratory.intrinsic+json": {
              "type": "string"
            }
          },
          "metadata": {},
          "execution_count": 23
        }
      ]
    },
    {
      "cell_type": "code",
      "source": [
        "from langchain_community.document_loaders import BSHTMLLoader\n",
        "\n",
        "# Initialize the BSHTMLLoader with the path to the HTML file\n",
        "loader = BSHTMLLoader(\"example_html_file.html\")\n",
        "\n",
        "# Load the HTML data\n",
        "html_data = loader.load()\n",
        "\n",
        "print(html_data)"
      ],
      "metadata": {
        "id": "g58kE-OtyicI",
        "colab": {
          "base_uri": "https://localhost:8080/"
        },
        "outputId": "3bd3b028-d7fe-4211-9925-570247c570e8"
      },
      "execution_count": 25,
      "outputs": [
        {
          "output_type": "stream",
          "name": "stdout",
          "text": [
            "[Document(metadata={'source': 'example_html_file.html', 'title': 'Sri Lanka Cricket'}, page_content=\"\\n\\n\\n\\nSri Lanka Cricket\\n\\n\\n\\n\\nSri Lanka Cricket\\nSri Lanka's national cricket team achieved a historic milestone by winning the ICC Cricket World Cup in 1996.\\nThe team is known for producing cricket legends like Muttiah Muralitharan, the highest wicket-taker in Test cricket history.\\nKumar Sangakkara and Mahela Jayawardene are celebrated for their prolific batting partnerships.\\nSanath Jayasuriya revolutionized one-day cricket with his explosive batting style.\\nThe Galle International Stadium, with its stunning backdrop of the Galle Fort, is one of the world's most picturesque cricket venues.\\nSri Lanka won the ICC T20 World Cup in 2014, demonstrating their prowess in the shortest format of the game.\\nLasith Malinga, famous for his unique bowling action and lethal yorkers, has been a key player in their T20 success.\\nCricket is deeply embedded in Sri Lankan culture, uniting people from all walks of life during major tournaments.\\n\\n\\n\\n\")]\n"
          ]
        }
      ]
    },
    {
      "cell_type": "code",
      "source": [
        "html_data[0].page_content"
      ],
      "metadata": {
        "id": "eofCJb3ayifj",
        "colab": {
          "base_uri": "https://localhost:8080/",
          "height": 209
        },
        "outputId": "d57a8070-61c7-44b5-e7a2-bccf6460967f"
      },
      "execution_count": 26,
      "outputs": [
        {
          "output_type": "execute_result",
          "data": {
            "text/plain": [
              "\"\\n\\n\\n\\nSri Lanka Cricket\\n\\n\\n\\n\\nSri Lanka Cricket\\nSri Lanka's national cricket team achieved a historic milestone by winning the ICC Cricket World Cup in 1996.\\nThe team is known for producing cricket legends like Muttiah Muralitharan, the highest wicket-taker in Test cricket history.\\nKumar Sangakkara and Mahela Jayawardene are celebrated for their prolific batting partnerships.\\nSanath Jayasuriya revolutionized one-day cricket with his explosive batting style.\\nThe Galle International Stadium, with its stunning backdrop of the Galle Fort, is one of the world's most picturesque cricket venues.\\nSri Lanka won the ICC T20 World Cup in 2014, demonstrating their prowess in the shortest format of the game.\\nLasith Malinga, famous for his unique bowling action and lethal yorkers, has been a key player in their T20 success.\\nCricket is deeply embedded in Sri Lankan culture, uniting people from all walks of life during major tournaments.\\n\\n\\n\\n\""
            ],
            "application/vnd.google.colaboratory.intrinsic+json": {
              "type": "string"
            }
          },
          "metadata": {},
          "execution_count": 26
        }
      ]
    }
  ]
}