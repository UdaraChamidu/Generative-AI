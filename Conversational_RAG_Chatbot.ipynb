{
  "cells": [
    {
      "cell_type": "markdown",
      "metadata": {
        "id": "view-in-github",
        "colab_type": "text"
      },
      "source": [
        "<a href=\"https://colab.research.google.com/github/UdaraChamidu/Generative-AI/blob/main/Conversational_RAG_Chatbot.ipynb\" target=\"_parent\"><img src=\"https://colab.research.google.com/assets/colab-badge.svg\" alt=\"Open In Colab\"/></a>"
      ]
    },
    {
      "cell_type": "markdown",
      "metadata": {
        "id": "rFoqB7PM1Wr2"
      },
      "source": [
        "# **Eye Disease Chat Bot** with Langchain and OpenAI LLM"
      ]
    },
    {
      "cell_type": "code",
      "execution_count": 85,
      "metadata": {
        "id": "yLmdg-IcwzDv"
      },
      "outputs": [],
      "source": [
        "!pip install langchain -qU\n",
        "!pip install langchain-openai -qU # LLM and Embedding model\n",
        "!pip install langchain-chroma -qU # vector database\n",
        "!pip install langchain_community -qU"
      ]
    },
    {
      "cell_type": "code",
      "execution_count": 86,
      "metadata": {
        "id": "YBMKMYgC18Px"
      },
      "outputs": [],
      "source": [
        "import os\n",
        "from google.colab import userdata"
      ]
    },
    {
      "cell_type": "markdown",
      "metadata": {
        "id": "hA1eFiqD3AQU"
      },
      "source": [
        "# Initialize OpenAI LLM"
      ]
    },
    {
      "cell_type": "code",
      "execution_count": 87,
      "metadata": {
        "id": "3nX9NMrX2p5N"
      },
      "outputs": [],
      "source": [
        "from langchain_openai import ChatOpenAI\n",
        "\n",
        "# Set OpenAI API key\n",
        "os.environ['OPENAI_API_KEY'] = userdata.get('OPENAI_API_KEY')\n",
        "\n",
        "# Initialize the ChatOpenAI model (language model)\n",
        "llm = ChatOpenAI(\n",
        "    model=\"gpt-3.5-turbo\",\n",
        "    temperature=0 # randomness of the response\n",
        ")"
      ]
    },
    {
      "cell_type": "markdown",
      "metadata": {
        "id": "ZDC917qj3R0s"
      },
      "source": [
        "# Initialize Embedding Model"
      ]
    },
    {
      "cell_type": "code",
      "execution_count": 88,
      "metadata": {
        "id": "uuNNteKD3PrC"
      },
      "outputs": [],
      "source": [
        "from langchain_openai import OpenAIEmbeddings\n",
        "embedding_model = OpenAIEmbeddings(model=\"text-embedding-3-small\")"
      ]
    },
    {
      "cell_type": "markdown",
      "metadata": {
        "id": "L9zH4-lt34lj"
      },
      "source": [
        "### Load PDF Document"
      ]
    },
    {
      "cell_type": "code",
      "execution_count": 89,
      "metadata": {
        "id": "JJSGwpG735f3"
      },
      "outputs": [],
      "source": [
        "!pip install pypdf -qU"
      ]
    },
    {
      "cell_type": "code",
      "execution_count": 90,
      "metadata": {
        "id": "KCKpv_OPHFjs"
      },
      "outputs": [],
      "source": [
        "from langchain_community.document_loaders import PyPDFLoader\n",
        "\n",
        "# Load the PDF document\n",
        "loader = PyPDFLoader(\"Kanski’s clinical ophthalmology _ a systematic approach.pdf\")\n",
        "\n",
        "docs = loader.load() # document object (page_content and metadata)"
      ]
    },
    {
      "cell_type": "code",
      "execution_count": 91,
      "metadata": {
        "colab": {
          "base_uri": "https://localhost:8080/"
        },
        "id": "dVfozp4k5KsR",
        "outputId": "2e4bcaf2-f928-46a7-c06e-a345c37c49ea"
      },
      "outputs": [
        {
          "output_type": "execute_result",
          "data": {
            "text/plain": [
              "897"
            ]
          },
          "metadata": {},
          "execution_count": 91
        }
      ],
      "source": [
        "len(docs)"
      ]
    },
    {
      "cell_type": "code",
      "execution_count": 92,
      "metadata": {
        "colab": {
          "base_uri": "https://localhost:8080/"
        },
        "id": "kqxUPgG15QnK",
        "outputId": "dccdbda7-7f1e-455d-c618-5d265cb33095"
      },
      "outputs": [
        {
          "output_type": "execute_result",
          "data": {
            "text/plain": [
              "Document(metadata={'producer': '3-Heights(TM) PDF Producer 4.4.43.3 (http://www.pdf-tools.com); modified using iTextSharp 5.2.1 (c) 1T3XT BVBA', 'creator': 'Elsevier', 'creationdate': '2015-05-13T17:49:48+07:00', 'author': 'Brad Bowling', 'moddate': '2015-07-05T16:31:24+09:30', 'subject': \"Kanski's Clinical Ophthalmology, Eighth Edition (2016) ii. doi:10.1016/B978-0-7020-5572-0.00025-8\", 'title': \"Kanski's Clinical Ophthalmology, Eighth Edition (2016)\", 'source': 'Kanski’s clinical ophthalmology _ a systematic approach.pdf', 'total_pages': 897, 'page': 4, 'page_label': 'iii'}, page_content=\"S\\nKanski’s Clinical \\nOphthalmology\\nA SYSTEMATIC APPROACH\\nEIGHTH EDITION\\nBrad Bowling  \\nFRCSEd(Ophth), FRCOphth, FRANZCO\\nOphthalmologist\\nSydney\\nNew South Wales\\nAustralia\\nFor additional online content visit expertconsult\\nBowling_Title page_main.indd   3 2015-02-25   18:35:53\\n7R\\x03SURWHFW\\x03WKH\\x03ULJKWV\\x03RI\\x03WKH\\x03DXWKRU\\x0bV\\x0c\\x03DQG\\x03SXEOLVKHU\\x03ZH\\x03LQIRUP\\x03 \\\\RX\\x03WKDW\\x03WKLV\\x033')\\x03LV\\x03DQ\\x03XQFRUUHFWHG\\x03SURRI\\x03IRU\\x03LQWHUQDO\\x03EXVLQHVV \\x03XVH\\x03RQO\\\\\\x03E\\\\\\x03WKH\\x03DXWKRU\\x0bV\\x0c\\x0f\\x03HGLWRU\\x0bV\\x0c\\x0f\\x03UHYLHZHU\\x0bV\\x0c\\x0f\\x03(OVHYLHU\\x03DQ G\\x03\\nW\\\\SHVHWWHU\\x037RSSDQ\\x03%HVW\\x10VHW\\x11\\x03,W\\x03LV\\x03QRW\\x03DOORZHG\\x03WR\\x03SXEOLVK\\x03WKLV\\x03S URRI\\x03RQOLQH\\x03RU\\x03LQ\\x03SULQW\\x11\\x037KLV\\x03SURRI\\x03FRS\\\\\\x03LV\\x03WKH\\x03FRS\\\\ULJKW\\x03SURSH UW\\\\\\x03RI\\x03WKH\\x03SXEOLVKHU\\x03DQG\\x03LV\\x03FRQ¿GHQWLDO\\x03XQWLO\\x03IRUPDO\\x03SXEOLFDWLR Q\\x11\")"
            ]
          },
          "metadata": {},
          "execution_count": 92
        }
      ],
      "source": [
        "docs[4]"
      ]
    },
    {
      "cell_type": "markdown",
      "source": [
        "### Split Documents into Chunks"
      ],
      "metadata": {
        "id": "dUCvAIZZTuO7"
      }
    },
    {
      "cell_type": "code",
      "execution_count": 93,
      "metadata": {
        "id": "zhFz-dMn5RZp"
      },
      "outputs": [],
      "source": [
        "from langchain_text_splitters import RecursiveCharacterTextSplitter\n",
        "\n",
        "# Initialize the text splitter\n",
        "text_splitter = RecursiveCharacterTextSplitter(chunk_size=400, chunk_overlap=50)\n",
        "\n",
        "# Split the documents into chunks\n",
        "# create splitter object\n",
        "splits = text_splitter.split_documents(docs)"
      ]
    },
    {
      "cell_type": "code",
      "source": [
        "len(splits)"
      ],
      "metadata": {
        "colab": {
          "base_uri": "https://localhost:8080/"
        },
        "id": "EJ8RzLtMT3H1",
        "outputId": "a86b8771-3ca3-4ab8-898a-27aab0dbf437"
      },
      "execution_count": 94,
      "outputs": [
        {
          "output_type": "execute_result",
          "data": {
            "text/plain": [
              "6524"
            ]
          },
          "metadata": {},
          "execution_count": 94
        }
      ]
    },
    {
      "cell_type": "code",
      "source": [
        "splits[0]"
      ],
      "metadata": {
        "colab": {
          "base_uri": "https://localhost:8080/"
        },
        "id": "QEl0_zolUMAI",
        "outputId": "6a52f551-268d-41b2-964a-87374c88a257"
      },
      "execution_count": 95,
      "outputs": [
        {
          "output_type": "execute_result",
          "data": {
            "text/plain": [
              "Document(metadata={'producer': '3-Heights(TM) PDF Producer 4.4.43.3 (http://www.pdf-tools.com); modified using iTextSharp 5.2.1 (c) 1T3XT BVBA', 'creator': 'Elsevier', 'creationdate': '2015-05-13T17:49:48+07:00', 'author': 'Brad Bowling', 'moddate': '2015-07-05T16:31:24+09:30', 'subject': \"Kanski's Clinical Ophthalmology, Eighth Edition (2016) ii. doi:10.1016/B978-0-7020-5572-0.00025-8\", 'title': \"Kanski's Clinical Ophthalmology, Eighth Edition (2016)\", 'source': 'Kanski’s clinical ophthalmology _ a systematic approach.pdf', 'total_pages': 897, 'page': 2, 'page_label': 'i'}, page_content=\"S\\nKanski’s Clinical \\nOphthalmology\\nA SYSTEMATIC APPROACH\\nBowling_Half title page_main.indd   1 2015-02-25   18:35:24\\n7R\\x03SURWHFW\\x03WKH\\x03ULJKWV\\x03RI\\x03WKH\\x03DXWKRU\\x0bV\\x0c\\x03DQG\\x03SXEOLVKHU\\x03ZH\\x03LQIRUP\\x03 \\\\RX\\x03WKDW\\x03WKLV\\x033')\\x03LV\\x03DQ\\x03XQFRUUHFWHG\\x03SURRI\\x03IRU\\x03LQWHUQDO\\x03EXVLQHVV \\x03XVH\\x03RQO\\\\\\x03E\\\\\\x03WKH\\x03DXWKRU\\x0bV\\x0c\\x0f\\x03HGLWRU\\x0bV\\x0c\\x0f\\x03UHYLHZHU\\x0bV\\x0c\\x0f\\x03(OVHYLHU\\x03DQ G\\x03\")"
            ]
          },
          "metadata": {},
          "execution_count": 95
        }
      ]
    },
    {
      "cell_type": "markdown",
      "source": [
        "### Create Vector Store and Retriever"
      ],
      "metadata": {
        "id": "diJVwY43Ubwf"
      }
    },
    {
      "cell_type": "code",
      "source": [
        "from langchain_chroma import Chroma\n",
        "\n",
        "# Create a vector store from the document chunks\n",
        "vectorstore = Chroma.from_documents(documents=splits, embedding=embedding_model)\n",
        "# embedding vectors save in the vectorstore"
      ],
      "metadata": {
        "id": "wHu9n42FUU3A"
      },
      "execution_count": 96,
      "outputs": []
    },
    {
      "cell_type": "code",
      "source": [
        "# Create a retriever from the vector store\n",
        "retriever = vectorstore.as_retriever()\n",
        "\n",
        "# when user ask question, retrever gives appropriate chunks from vector store."
      ],
      "metadata": {
        "id": "JPOFyddGUgoX"
      },
      "execution_count": 97,
      "outputs": []
    },
    {
      "cell_type": "markdown",
      "source": [
        "### Define Prompt Template"
      ],
      "metadata": {
        "id": "LUfCCjsLWNwt"
      }
    },
    {
      "cell_type": "code",
      "source": [
        "from langchain_core.prompts import ChatPromptTemplate\n",
        "\n",
        "# Define the system prompt\n",
        "system_prompt = (\n",
        "    \"You are an intelligent chatbot. Use the following context to answer the question. If you don't know the answer, just say that you don't know.\"\n",
        "    \"\\n\\n\"\n",
        "    \"{context}\"  # this context come from retriever\n",
        "    # best chunks for the asked question from the vector space.\n",
        "    # we can define number of chunks that need to come here from retriever\n",
        ")\n",
        "\n",
        "# Create the prompt template\n",
        "prompt = ChatPromptTemplate.from_messages(\n",
        "    [\n",
        "        (\"system\", system_prompt), # 2 roles, system and human\n",
        "        (\"human\", \"{input}\"), # user input\n",
        "    ]\n",
        ")\n",
        "\n",
        "# after that final prompt created"
      ],
      "metadata": {
        "id": "055KVkbuU-aX"
      },
      "execution_count": 98,
      "outputs": []
    },
    {
      "cell_type": "code",
      "source": [
        "prompt\n",
        "# according to the user asked question, context will vary."
      ],
      "metadata": {
        "colab": {
          "base_uri": "https://localhost:8080/"
        },
        "id": "WxwqBKYmWRbY",
        "outputId": "0887a0bd-30d5-448a-9ed8-54ec3cf1f285"
      },
      "execution_count": 99,
      "outputs": [
        {
          "output_type": "execute_result",
          "data": {
            "text/plain": [
              "ChatPromptTemplate(input_variables=['context', 'input'], input_types={}, partial_variables={}, messages=[SystemMessagePromptTemplate(prompt=PromptTemplate(input_variables=['context'], input_types={}, partial_variables={}, template=\"You are an intelligent chatbot. Use the following context to answer the question. If you don't know the answer, just say that you don't know.\\n\\n{context}\"), additional_kwargs={}), HumanMessagePromptTemplate(prompt=PromptTemplate(input_variables=['input'], input_types={}, partial_variables={}, template='{input}'), additional_kwargs={})])"
            ]
          },
          "metadata": {},
          "execution_count": 99
        }
      ]
    },
    {
      "cell_type": "markdown",
      "source": [
        "### Create Retrieval-Augmented Generation (RAG) Chain"
      ],
      "metadata": {
        "id": "rT7NWeViXoHA"
      }
    },
    {
      "cell_type": "code",
      "source": [
        "# the rag chain contains QA chain and retriever\n",
        "\n",
        "from langchain.chains import create_retrieval_chain\n",
        "from langchain.chains.combine_documents import create_stuff_documents_chain\n",
        "\n",
        "# Create the question-answering chain\n",
        "qa_chain = create_stuff_documents_chain(llm, prompt) # create QA chain using llm and prompt\n",
        "# prompt = system prompt + user input\n",
        "# system prompt = instruction + context\n",
        "\n",
        "# Create the RAG chain containing QA chain and retriever\n",
        "rag_chain = create_retrieval_chain(retriever, qa_chain)\n",
        "# QA chain has to give answers to questions that ask by user"
      ],
      "metadata": {
        "id": "AmhDCHLgXnaH"
      },
      "execution_count": 100,
      "outputs": []
    },
    {
      "cell_type": "markdown",
      "source": [
        "### Invoke RAG Chain with Example Questions"
      ],
      "metadata": {
        "id": "lXNsJG-PXvku"
      }
    },
    {
      "cell_type": "code",
      "source": [
        "response = rag_chain.invoke({\"input\": \"what is efficientNet ?\"}) # ask questions\n",
        "response[\"answer\"]"
      ],
      "metadata": {
        "colab": {
          "base_uri": "https://localhost:8080/",
          "height": 88
        },
        "id": "QUTfHEcyXw3H",
        "outputId": "ca129335-e17a-4b5b-fb29-7a0f7cd96e17"
      },
      "execution_count": 101,
      "outputs": [
        {
          "output_type": "execute_result",
          "data": {
            "text/plain": [
              "'EfficientNet is a Convolutional Neural Network (CNN) architecture and scaling technique that scales the network breadth, depth, and resolution uniformly using a set of predetermined scaling factors. It is designed to efficiently optimize the model parameters for better performance in image recognition and dataset categorization tasks. The EfficientNet model is often used in transfer learning to improve the performance of CNN models on specific tasks.'"
            ],
            "application/vnd.google.colaboratory.intrinsic+json": {
              "type": "string"
            }
          },
          "metadata": {},
          "execution_count": 101
        }
      ]
    },
    {
      "cell_type": "code",
      "source": [
        "response = rag_chain.invoke({\"input\": \"what is Deep learning\"})\n",
        "response[\"answer\"]"
      ],
      "metadata": {
        "colab": {
          "base_uri": "https://localhost:8080/",
          "height": 70
        },
        "id": "DW7S_bGPX0At",
        "outputId": "2a8e8464-3096-44dc-b2fc-1ae7e7652d18"
      },
      "execution_count": 102,
      "outputs": [
        {
          "output_type": "execute_result",
          "data": {
            "text/plain": [
              "'Deep learning is a subset of artificial intelligence and machine learning that uses neural networks with many layers to learn and make decisions from large amounts of data. It is particularly useful for tasks such as image and speech recognition, natural language processing, and other complex problems that require sophisticated pattern recognition.'"
            ],
            "application/vnd.google.colaboratory.intrinsic+json": {
              "type": "string"
            }
          },
          "metadata": {},
          "execution_count": 102
        }
      ]
    },
    {
      "cell_type": "code",
      "source": [
        "response = rag_chain.invoke({\"input\": \"what is CNN\"})\n",
        "response[\"answer\"]"
      ],
      "metadata": {
        "colab": {
          "base_uri": "https://localhost:8080/",
          "height": 88
        },
        "id": "p5u3mUV3X0EJ",
        "outputId": "83e378e5-f6f0-4787-e6e5-a520df718b7d"
      },
      "execution_count": 103,
      "outputs": [
        {
          "output_type": "execute_result",
          "data": {
            "text/plain": [
              "'CNN stands for Convolutional Neural Network. It is a type of deep learning algorithm commonly used in image processing and computer vision tasks. CNNs are designed to automatically and efficiently extract features from input images, making them extremely useful for tasks such as image segmentation, pattern recognition, and classification. CNNs have been shown to be effective in various applications, including medical image processing, where they can be used to diagnose diseases like diabetic retinopathy, cataract, or glaucoma.'"
            ],
            "application/vnd.google.colaboratory.intrinsic+json": {
              "type": "string"
            }
          },
          "metadata": {},
          "execution_count": 103
        }
      ]
    },
    {
      "cell_type": "code",
      "source": [
        "response = rag_chain.invoke({\"input\": \"What is RAG architecture\"})\n",
        "response[\"answer\"]"
      ],
      "metadata": {
        "colab": {
          "base_uri": "https://localhost:8080/",
          "height": 36
        },
        "id": "FKDzUemAX5O-",
        "outputId": "7618e8cc-93dd-4e0c-c81d-c939f7be8157"
      },
      "execution_count": 104,
      "outputs": [
        {
          "output_type": "execute_result",
          "data": {
            "text/plain": [
              "\"I'm sorry, but I don't have information on RAG architecture in the context provided.\""
            ],
            "application/vnd.google.colaboratory.intrinsic+json": {
              "type": "string"
            }
          },
          "metadata": {},
          "execution_count": 104
        }
      ]
    },
    {
      "cell_type": "code",
      "source": [
        "response = rag_chain.invoke({\"input\": \"Can u list down evaluation metrices\"})\n",
        "response[\"answer\"]"
      ],
      "metadata": {
        "colab": {
          "base_uri": "https://localhost:8080/",
          "height": 36
        },
        "id": "MFQivaktdYgo",
        "outputId": "6bae4e05-d36e-49db-eec0-ce8a6b9ee72b"
      },
      "execution_count": 105,
      "outputs": [
        {
          "output_type": "execute_result",
          "data": {
            "text/plain": [
              "'The evaluation metrics commonly used in machine learning and information retrieval are Precision, Recall, and F1-score.'"
            ],
            "application/vnd.google.colaboratory.intrinsic+json": {
              "type": "string"
            }
          },
          "metadata": {},
          "execution_count": 105
        }
      ]
    },
    {
      "cell_type": "markdown",
      "source": [
        "# Add Chat History"
      ],
      "metadata": {
        "id": "i8NwviuBdwuM"
      }
    },
    {
      "cell_type": "markdown",
      "source": [
        "Create a retriever that aware history"
      ],
      "metadata": {
        "id": "8U9K6k2Effj1"
      }
    },
    {
      "cell_type": "code",
      "source": [
        "from langchain.chains import create_history_aware_retriever\n",
        "from langchain_core.prompts import MessagesPlaceholder\n",
        "\n",
        "# Define the contextualize system prompt\n",
        "contextualize_system_prompt = (\n",
        "    \"using chat history and the latest user question, just reformulate question if needed and otherwise return it as is\"\n",
        ")\n",
        "\n",
        "# Create the contextualize prompt template\n",
        "contextualize_prompt = ChatPromptTemplate.from_messages(\n",
        "    [\n",
        "        (\"system\", contextualize_system_prompt),\n",
        "        MessagesPlaceholder(\"chat_history\"),\n",
        "        (\"human\", \"{input}\"),\n",
        "    ]\n",
        ")\n",
        "\n",
        "# Create the history-aware retriever\n",
        "history_aware_retriever = create_history_aware_retriever(\n",
        "    llm, retriever, contextualize_prompt\n",
        ")"
      ],
      "metadata": {
        "id": "N8m-puCUdkKB"
      },
      "execution_count": 106,
      "outputs": []
    },
    {
      "cell_type": "markdown",
      "source": [
        "#### Create History-Aware RAG Chain"
      ],
      "metadata": {
        "id": "_c66OpDefs71"
      }
    },
    {
      "cell_type": "code",
      "source": [
        "from langchain.chains import create_history_aware_retriever\n",
        "from langchain_core.prompts import MessagesPlaceholder\n",
        "\n",
        "system_prompt = (\n",
        "    \"You are an intelligent chatbot. Use the following context to answer the question. If you don't know the answer, just say that you don't know.\"\n",
        "    \"\\n\\n\"\n",
        "    \"{context}\"\n",
        ")\n",
        "\n",
        "prompt = ChatPromptTemplate.from_messages(\n",
        "    [\n",
        "        (\"system\", system_prompt),\n",
        "        MessagesPlaceholder(\"chat_history\"),\n",
        "        (\"human\", \"{input}\"),\n",
        "    ]\n",
        ")\n",
        "\n",
        "prompt\n",
        "\n",
        "# now => ChatPromptTemplate(input_variables=['chat_history', 'context', 'input']"
      ],
      "metadata": {
        "colab": {
          "base_uri": "https://localhost:8080/"
        },
        "id": "ESFEisTqfvOz",
        "outputId": "5813aac8-14b7-4bfc-944a-332196c900f2"
      },
      "execution_count": 107,
      "outputs": [
        {
          "output_type": "execute_result",
          "data": {
            "text/plain": [
              "ChatPromptTemplate(input_variables=['chat_history', 'context', 'input'], input_types={'chat_history': list[typing.Annotated[typing.Union[typing.Annotated[langchain_core.messages.ai.AIMessage, Tag(tag='ai')], typing.Annotated[langchain_core.messages.human.HumanMessage, Tag(tag='human')], typing.Annotated[langchain_core.messages.chat.ChatMessage, Tag(tag='chat')], typing.Annotated[langchain_core.messages.system.SystemMessage, Tag(tag='system')], typing.Annotated[langchain_core.messages.function.FunctionMessage, Tag(tag='function')], typing.Annotated[langchain_core.messages.tool.ToolMessage, Tag(tag='tool')], typing.Annotated[langchain_core.messages.ai.AIMessageChunk, Tag(tag='AIMessageChunk')], typing.Annotated[langchain_core.messages.human.HumanMessageChunk, Tag(tag='HumanMessageChunk')], typing.Annotated[langchain_core.messages.chat.ChatMessageChunk, Tag(tag='ChatMessageChunk')], typing.Annotated[langchain_core.messages.system.SystemMessageChunk, Tag(tag='SystemMessageChunk')], typing.Annotated[langchain_core.messages.function.FunctionMessageChunk, Tag(tag='FunctionMessageChunk')], typing.Annotated[langchain_core.messages.tool.ToolMessageChunk, Tag(tag='ToolMessageChunk')]], FieldInfo(annotation=NoneType, required=True, discriminator=Discriminator(discriminator=<function _get_type at 0x7a827b42c360>, custom_error_type=None, custom_error_message=None, custom_error_context=None))]]}, partial_variables={}, messages=[SystemMessagePromptTemplate(prompt=PromptTemplate(input_variables=['context'], input_types={}, partial_variables={}, template=\"You are an intelligent chatbot. Use the following context to answer the question. If you don't know the answer, just say that you don't know.\\n\\n{context}\"), additional_kwargs={}), MessagesPlaceholder(variable_name='chat_history'), HumanMessagePromptTemplate(prompt=PromptTemplate(input_variables=['input'], input_types={}, partial_variables={}, template='{input}'), additional_kwargs={})])"
            ]
          },
          "metadata": {},
          "execution_count": 107
        }
      ]
    },
    {
      "cell_type": "code",
      "source": [
        "# Create the question-answering chain\n",
        "qa_chain = create_stuff_documents_chain(llm, prompt)\n",
        "\n",
        "# Create the history aware RAG chain\n",
        "rag_chain = create_retrieval_chain(history_aware_retriever, qa_chain)"
      ],
      "metadata": {
        "id": "gDXltYidgpvk"
      },
      "execution_count": 108,
      "outputs": []
    },
    {
      "cell_type": "markdown",
      "source": [
        "#### Manage Chat Session History"
      ],
      "metadata": {
        "id": "bHTWzGf7gzmJ"
      }
    },
    {
      "cell_type": "code",
      "source": [
        "# different user has different history\n",
        "# here we use session id. according to session id, store the history in a list\n",
        "\n",
        "from langchain_community.chat_message_histories import ChatMessageHistory\n",
        "from langchain_core.chat_history import BaseChatMessageHistory\n",
        "from langchain_core.runnables.history import RunnableWithMessageHistory\n",
        "\n",
        "# Initialize the store for session histories (a dictionary)\n",
        "store = {}\n",
        "\n",
        "# Function to get the session history for a given session ID\n",
        "def get_session_history(session_id: str) -> BaseChatMessageHistory:\n",
        "    if session_id not in store:\n",
        "        store[session_id] = ChatMessageHistory()\n",
        "    return store[session_id]\n",
        "\n",
        "# Create the conversational RAG chain with session history\n",
        "conversational_rag_chain = RunnableWithMessageHistory(\n",
        "    rag_chain,\n",
        "    get_session_history,\n",
        "    input_messages_key=\"input\",\n",
        "    history_messages_key=\"chat_history\",\n",
        "    output_messages_key=\"answer\",\n",
        ")\n",
        "\n",
        "# we can save the dictionary in jason format, save in a database."
      ],
      "metadata": {
        "id": "WnvkN-R7gxQ6"
      },
      "execution_count": 109,
      "outputs": []
    },
    {
      "cell_type": "markdown",
      "source": [
        "#### Invoke Conversational RAG Chain with Example Questions"
      ],
      "metadata": {
        "id": "Tsrt3JPkicgv"
      }
    },
    {
      "cell_type": "code",
      "source": [
        "response = conversational_rag_chain.invoke(\n",
        "    {\"input\": \"what is diabitic retinopathy ?\"},\n",
        "    config={\"configurable\": {\"session_id\": \"101\"}},  # this is session id.\n",
        ")   # each user have unique session id\n",
        "response[\"answer\"]"
      ],
      "metadata": {
        "colab": {
          "base_uri": "https://localhost:8080/",
          "height": 105
        },
        "id": "ddcVJNWLidbj",
        "outputId": "986a649d-4c01-4de1-ae61-588493183af9"
      },
      "execution_count": 116,
      "outputs": [
        {
          "output_type": "execute_result",
          "data": {
            "text/plain": [
              "\"Diabetic retinopathy is a diabetes complication that affects the eyes. It's caused by damage to the blood vessels of the light-sensitive tissue at the back of the eye (retina). In the early stages of diabetic retinopathy, there may be no symptoms. As the condition progresses, it can lead to vision loss and blindness. Diabetic retinopathy can be classified into two main types: non-proliferative diabetic retinopathy (NPDR) and proliferative diabetic retinopathy (PDR). Regular eye exams and early detection are crucial in managing diabetic retinopathy and preventing vision loss.\""
            ],
            "application/vnd.google.colaboratory.intrinsic+json": {
              "type": "string"
            }
          },
          "metadata": {},
          "execution_count": 116
        }
      ]
    },
    {
      "cell_type": "code",
      "source": [
        "response = conversational_rag_chain.invoke(\n",
        "    {\"input\": \"what is Eye disease classification ?\"},\n",
        "    config={\"configurable\": {\"session_id\": \"101\"}},\n",
        ")\n",
        "response[\"answer\"]"
      ],
      "metadata": {
        "colab": {
          "base_uri": "https://localhost:8080/",
          "height": 105
        },
        "id": "QYtpti9kiiW4",
        "outputId": "e952e461-9f40-4e05-f70e-d4abc196a8ee"
      },
      "execution_count": 111,
      "outputs": [
        {
          "output_type": "execute_result",
          "data": {
            "text/plain": [
              "'Eye disease classification refers to the process of using deep learning techniques, such as Convolutional Neural Networks (CNNs) and transfer learning, to analyze images of eyes and classify them into different categories based on the presence or absence of specific eye diseases. Researchers use image data mining and machine learning algorithms to develop models that can automatically detect and classify various eye diseases, such as diabetic retinopathy, glaucoma, and macular edema, from eye images. Early detection of eye diseases through automated classification methods can help in timely intervention and treatment, ultimately improving patient outcomes.'"
            ],
            "application/vnd.google.colaboratory.intrinsic+json": {
              "type": "string"
            }
          },
          "metadata": {},
          "execution_count": 111
        }
      ]
    },
    {
      "cell_type": "code",
      "source": [
        "response = conversational_rag_chain.invoke(\n",
        "    {\"input\": \"eye diseases\"},\n",
        "    config={\"configurable\": {\"session_id\": \"101\"}},\n",
        ")\n",
        "response[\"answer\"]"
      ],
      "metadata": {
        "colab": {
          "base_uri": "https://localhost:8080/",
          "height": 140
        },
        "id": "SlSOJ6fziq46",
        "outputId": "363d7609-9b3b-42fa-fb75-02c47bae258a"
      },
      "execution_count": 117,
      "outputs": [
        {
          "output_type": "execute_result",
          "data": {
            "text/plain": [
              "\"There are various eye diseases that can affect the eyes and vision. Some common eye diseases include:\\n\\n1. Cataracts: Clouding of the lens in the eye, leading to blurry vision.\\n2. Glaucoma: Damage to the optic nerve often caused by high intraocular pressure.\\n3. Age-related macular degeneration (AMD): Degeneration of the macula, leading to central vision loss.\\n4. Diabetic retinopathy: Damage to the blood vessels in the retina due to diabetes.\\n5. Retinal detachment: Separation of the retina from the underlying layers of the eye.\\n6. Conjunctivitis: Inflammation of the conjunctiva, causing redness and irritation.\\n7. Dry eye syndrome: Insufficient tear production or poor tear quality, leading to dryness and discomfort.\\n8. Keratoconus: Progressive thinning and bulging of the cornea, causing distorted vision.\\n9. Retinitis pigmentosa: Inherited disorder causing progressive vision loss.\\n10. Uveitis: Inflammation of the uvea, the middle layer of the eye.\\n\\nThese are just a few examples of eye diseases. It's important to have regular eye exams and seek medical attention if you experience any changes in your vision or eye health.\""
            ],
            "application/vnd.google.colaboratory.intrinsic+json": {
              "type": "string"
            }
          },
          "metadata": {},
          "execution_count": 117
        }
      ]
    },
    {
      "cell_type": "code",
      "source": [
        "response = conversational_rag_chain.invoke(\n",
        "    {\"input\": \"can you list down eye diseases\"},\n",
        "    config={\"configurable\": {\"session_id\": \"101\"}},\n",
        ")\n",
        "response[\"answer\"]"
      ],
      "metadata": {
        "colab": {
          "base_uri": "https://localhost:8080/",
          "height": 88
        },
        "id": "crvtFK81jDog",
        "outputId": "5ab3afef-8ea9-498f-c119-2fecd9584f9d"
      },
      "execution_count": 119,
      "outputs": [
        {
          "output_type": "execute_result",
          "data": {
            "text/plain": [
              "\"Certainly! Here is a list of some common eye diseases:\\n\\n1. Cataracts\\n2. Glaucoma\\n3. Age-related macular degeneration (AMD)\\n4. Diabetic retinopathy\\n5. Retinal detachment\\n6. Conjunctivitis\\n7. Dry eye syndrome\\n8. Keratoconus\\n9. Retinitis pigmentosa\\n10. Uveitis\\n\\nThese are just a few examples of eye diseases. It's important to consult with an eye care professional for proper diagnosis and treatment if you suspect you have any eye-related issues.\""
            ],
            "application/vnd.google.colaboratory.intrinsic+json": {
              "type": "string"
            }
          },
          "metadata": {},
          "execution_count": 119
        }
      ]
    },
    {
      "cell_type": "code",
      "source": [
        "response = conversational_rag_chain.invoke(\n",
        "    {\"input\": \"explain \"},\n",
        "    config={\"configurable\": {\"session_id\": \"101\"}},  # previous session id\n",
        ")\n",
        "response[\"answer\"]"
      ],
      "metadata": {
        "colab": {
          "base_uri": "https://localhost:8080/",
          "height": 140
        },
        "id": "Vk31Y-QTjI0R",
        "outputId": "8e85c4dc-34ac-4b8a-ea46-a72ee2c48318"
      },
      "execution_count": 120,
      "outputs": [
        {
          "output_type": "execute_result",
          "data": {
            "text/plain": [
              "\"Of course! Here is a brief explanation of each of the listed eye diseases:\\n\\n1. Cataracts: Cataracts are characterized by the clouding of the lens in the eye, leading to blurry vision and eventual vision loss if left untreated. Surgery is often required to remove the cloudy lens and replace it with an artificial one.\\n\\n2. Glaucoma: Glaucoma is a group of eye conditions that damage the optic nerve, usually due to high intraocular pressure. If untreated, it can lead to permanent vision loss. Treatment typically involves eye drops, medication, or surgery.\\n\\n3. Age-related macular degeneration (AMD): AMD is a progressive eye disease that affects the macula, leading to central vision loss. There are two types: dry AMD (gradual breakdown of the macula) and wet AMD (abnormal blood vessel growth under the retina).\\n\\n4. Diabetic retinopathy: Diabetic retinopathy is a complication of diabetes that damages the blood vessels in the retina, leading to vision problems and potential blindness. Management includes controlling blood sugar levels and regular eye exams.\\n\\n5. Retinal detachment: Retinal detachment occurs when the retina separates from the underlying layers of the eye. It requires immediate medical attention to prevent permanent vision loss.\\n\\n6. Conjunctivitis: Also known as pink eye, conjunctivitis is the inflammation of the conjunctiva (the clear tissue covering the white part of the eye and inner eyelids). It can be caused by infections, allergies, or irritants.\\n\\n7. Dry eye syndrome: Dry eye syndrome occurs when the eyes do not produce enough tears or the tears evaporate too quickly, leading to dryness, discomfort, and potential damage to the cornea.\\n\\n8. Keratoconus: Keratoconus is a progressive eye disease in which the cornea thins and bulges outward, causing distorted vision. Treatment may include special contact lenses, collagen cross-linking, or corneal transplant.\\n\\n9. Retinitis pigmentosa: Retinitis pigmentosa is an inherited disorder that causes progressive vision loss due to the breakdown and loss of cells in the retina. There is currently no cure, but management focuses on preserving existing vision.\\n\\n10. Uveitis: Uveitis is the inflammation of the uvea, the middle layer of the eye. It can be caused by infections, autoimmune diseases, or trauma and requires prompt treatment to prevent complications and vision loss.\\n\\nThese are general explanations of common eye diseases. It's essential to consult with an eye care professional for accurate diagnosis and appropriate treatment options.\""
            ],
            "application/vnd.google.colaboratory.intrinsic+json": {
              "type": "string"
            }
          },
          "metadata": {},
          "execution_count": 120
        }
      ]
    },
    {
      "cell_type": "code",
      "source": [
        "response = conversational_rag_chain.invoke(\n",
        "    {\"input\": \"explain more\"},\n",
        "    config={\"configurable\": {\"session_id\": \"102\"}},  # for different session id\n",
        ")\n",
        "response[\"answer\"]"
      ],
      "metadata": {
        "colab": {
          "base_uri": "https://localhost:8080/",
          "height": 70
        },
        "id": "9GO7XOT2jkY8",
        "outputId": "5ad70525-58c7-49e3-84d2-9a4deb2fc93e"
      },
      "execution_count": 121,
      "outputs": [
        {
          "output_type": "execute_result",
          "data": {
            "text/plain": [
              "\"I'm sorry, but it seems like the context provided is related to ophthalmology abbreviations, clinical observations, and examination techniques. If you have a specific question or need clarification on a particular topic within this context, please let me know so I can provide you with more detailed information.\""
            ],
            "application/vnd.google.colaboratory.intrinsic+json": {
              "type": "string"
            }
          },
          "metadata": {},
          "execution_count": 121
        }
      ]
    },
    {
      "cell_type": "code",
      "source": [
        "response = conversational_rag_chain.invoke(\n",
        "    {\"input\": \"My eyes feel dry and irritated all the time. Could this be a sign of something serious?\"},\n",
        "    config={\"configurable\": {\"session_id\": \"102\"}},\n",
        ")\n",
        "response[\"answer\"]"
      ],
      "metadata": {
        "colab": {
          "base_uri": "https://localhost:8080/",
          "height": 105
        },
        "id": "vWusVW4spLiZ",
        "outputId": "0a57e122-f41d-43c1-d4b7-c14191775f5d"
      },
      "execution_count": 122,
      "outputs": [
        {
          "output_type": "execute_result",
          "data": {
            "text/plain": [
              "\"Feeling dry and irritated eyes could be a sign of a condition called dry eye syndrome. Dry eye syndrome is a common condition that occurs when your tears are not able to provide adequate lubrication for your eyes. It can be caused by various factors such as aging, certain medications, environmental factors, or underlying health conditions.\\n\\nWhile dry eye syndrome is usually not a serious condition, it can cause discomfort and affect your quality of life. It's essential to consult an eye care professional for a proper evaluation and diagnosis. They can recommend appropriate treatments such as artificial tears, prescription eye drops, or other therapies to help manage your symptoms and improve eye comfort.\""
            ],
            "application/vnd.google.colaboratory.intrinsic+json": {
              "type": "string"
            }
          },
          "metadata": {},
          "execution_count": 122
        }
      ]
    },
    {
      "cell_type": "code",
      "source": [
        "response = conversational_rag_chain.invoke(\n",
        "    {\"input\": \"I notice my vision is cloudy, especially in bright light. Could I have cataracts?\"},\n",
        "    config={\"configurable\": {\"session_id\": \"102\"}},\n",
        ")\n",
        "response[\"answer\"]"
      ],
      "metadata": {
        "colab": {
          "base_uri": "https://localhost:8080/",
          "height": 122
        },
        "id": "J9Tmj2_AqeIZ",
        "outputId": "1bd8d03c-5627-46ca-a9e7-d8be133f38bb"
      },
      "execution_count": 123,
      "outputs": [
        {
          "output_type": "execute_result",
          "data": {
            "text/plain": [
              "'Cloudy vision, especially in bright light, can be a symptom of cataracts. Cataracts are a common age-related condition where the lens of the eye becomes cloudy, leading to blurred or cloudy vision. Other symptoms of cataracts may include difficulty seeing at night, sensitivity to light, seeing halos around lights, and faded colors.\\n\\nIf you are experiencing cloudy vision, especially in bright light, it is essential to consult an eye care professional for a comprehensive eye examination. They can assess your symptoms, perform tests to diagnose cataracts, and discuss treatment options if necessary. Cataract surgery is a common and effective treatment for cataracts, where the cloudy lens is removed and replaced with an artificial lens to restore clear vision.'"
            ],
            "application/vnd.google.colaboratory.intrinsic+json": {
              "type": "string"
            }
          },
          "metadata": {},
          "execution_count": 123
        }
      ]
    },
    {
      "cell_type": "code",
      "source": [
        "response = conversational_rag_chain.invoke(\n",
        "    {\"input\": \"What are some good habits for maintaining healthy eyes?\"},\n",
        "    config={\"configurable\": {\"session_id\": \"102\"}},\n",
        ")\n",
        "response[\"answer\"]"
      ],
      "metadata": {
        "colab": {
          "base_uri": "https://localhost:8080/",
          "height": 140
        },
        "id": "cFbyDYN0qtYl",
        "outputId": "6fadd29b-a12f-4a83-c9a8-5530f23d816c"
      },
      "execution_count": 124,
      "outputs": [
        {
          "output_type": "execute_result",
          "data": {
            "text/plain": [
              "'Maintaining healthy eyes is essential for overall well-being. Here are some good habits to help keep your eyes healthy:\\n\\n1. **Regular Eye Exams:** Schedule routine eye exams with an eye care professional to monitor your eye health and detect any issues early.\\n\\n2. **Healthy Diet:** Eat a balanced diet rich in fruits, vegetables, and omega-3 fatty acids to support eye health.\\n\\n3. **Protective Eyewear:** Wear sunglasses that block UV rays and safety glasses when engaging in activities that could pose a risk to your eyes.\\n\\n4. **Proper Lighting:** Ensure adequate lighting when reading or working on a computer to reduce eye strain.\\n\\n5. **Take Breaks:** Follow the 20-20-20 rule - every 20 minutes, look at something 20 feet away for at least 20 seconds to reduce eye strain.\\n\\n6. **Stay Hydrated:** Drink plenty of water to maintain overall hydration, including eye moisture.\\n\\n7. **Quit Smoking:** Smoking can increase the risk of eye diseases such as cataracts and macular degeneration.\\n\\n8. **Manage Screen Time:** Limit screen time and practice good habits like blinking regularly to prevent dry eyes.\\n\\n9. **Exercise Regularly:** Physical activity can improve blood circulation, which is beneficial for eye health.\\n\\n10. **Get Adequate Sleep:** Aim for 7-8 hours of quality sleep each night to allow your eyes to rest and rejuvenate.\\n\\nRemember, if you experience any changes in your vision or eye health, consult an eye care professional for proper evaluation and guidance.'"
            ],
            "application/vnd.google.colaboratory.intrinsic+json": {
              "type": "string"
            }
          },
          "metadata": {},
          "execution_count": 124
        }
      ]
    },
    {
      "cell_type": "code",
      "source": [
        "response = conversational_rag_chain.invoke(\n",
        "    {\"input\": \"Give a list with points\"},\n",
        "    config={\"configurable\": {\"session_id\": \"102\"}},\n",
        ")\n",
        "response[\"answer\"]"
      ],
      "metadata": {
        "colab": {
          "base_uri": "https://localhost:8080/",
          "height": 122
        },
        "id": "3riGjYxYrBBs",
        "outputId": "365adcfa-cb34-4225-97ba-dedea3826cc4"
      },
      "execution_count": 126,
      "outputs": [
        {
          "output_type": "execute_result",
          "data": {
            "text/plain": [
              "'Certainly! Here is a list of good habits for maintaining healthy eyes:\\n\\n1. Schedule regular eye exams.\\n2. Eat a balanced diet rich in fruits, vegetables, and omega-3 fatty acids.\\n3. Wear protective eyewear, such as sunglasses and safety glasses.\\n4. Ensure proper lighting when reading or using screens.\\n5. Take breaks and follow the 20-20-20 rule to reduce eye strain.\\n6. Stay hydrated by drinking plenty of water.\\n7. Quit smoking to reduce the risk of eye diseases.\\n8. Manage screen time and practice good habits like blinking regularly.\\n9. Exercise regularly to improve blood circulation.\\n10. Get 7-8 hours of quality sleep each night.\\n\\nFollowing these habits can help you maintain healthy eyes and overall eye health.'"
            ],
            "application/vnd.google.colaboratory.intrinsic+json": {
              "type": "string"
            }
          },
          "metadata": {},
          "execution_count": 126
        }
      ]
    },
    {
      "cell_type": "code",
      "source": [
        "response = conversational_rag_chain.invoke(\n",
        "    {\"input\": \"What are the symptoms of depression?\"},\n",
        "    config={\"configurable\": {\"session_id\": \"103\"}},\n",
        ")\n",
        "response[\"answer\"]"
      ],
      "metadata": {
        "colab": {
          "base_uri": "https://localhost:8080/",
          "height": 53
        },
        "id": "6cw5PJCWrEc1",
        "outputId": "b60ad4eb-6f6b-4eb3-cebc-b9bc3610cfce"
      },
      "execution_count": 128,
      "outputs": [
        {
          "output_type": "execute_result",
          "data": {
            "text/plain": [
              "\"I'm sorry, but the information provided in the context does not mention symptoms of depression. If you have any other questions or need information on a different topic, feel free to ask!\""
            ],
            "application/vnd.google.colaboratory.intrinsic+json": {
              "type": "string"
            }
          },
          "metadata": {},
          "execution_count": 128
        }
      ]
    },
    {
      "cell_type": "code",
      "source": [
        "response = conversational_rag_chain.invoke(\n",
        "    {\"input\": \"What are the symptoms of a fungal skin infection?\"},\n",
        "    config={\"configurable\": {\"session_id\": \"104\"}},\n",
        ")\n",
        "response[\"answer\"]"
      ],
      "metadata": {
        "colab": {
          "base_uri": "https://localhost:8080/",
          "height": 70
        },
        "id": "NwBi6-OTrefo",
        "outputId": "8bf3df94-8ae0-4aa8-f157-8e4898c1d397"
      },
      "execution_count": 131,
      "outputs": [
        {
          "output_type": "execute_result",
          "data": {
            "text/plain": [
              "'Symptoms of a fungal skin infection can include itching, redness, scaling, and sometimes blistering. In some cases, there may be a maculopapular rash present. It is important to note that clinical signs alone may not definitively distinguish between bacterial and fungal skin infections.'"
            ],
            "application/vnd.google.colaboratory.intrinsic+json": {
              "type": "string"
            }
          },
          "metadata": {},
          "execution_count": 131
        }
      ]
    },
    {
      "cell_type": "code",
      "source": [
        "response = conversational_rag_chain.invoke(\n",
        "    {\"input\": \"What is my name\"},\n",
        "    config={\"configurable\": {\"session_id\": \"104\"}},\n",
        ")\n",
        "response[\"answer\"]"
      ],
      "metadata": {
        "colab": {
          "base_uri": "https://localhost:8080/",
          "height": 36
        },
        "id": "gRCKDHpXs7uw",
        "outputId": "5e896bdd-128b-4895-90ef-4aaec40fc20c"
      },
      "execution_count": 132,
      "outputs": [
        {
          "output_type": "execute_result",
          "data": {
            "text/plain": [
              "\"I'm sorry, but I don't have access to your personal information, so I don't know your name.\""
            ],
            "application/vnd.google.colaboratory.intrinsic+json": {
              "type": "string"
            }
          },
          "metadata": {},
          "execution_count": 132
        }
      ]
    },
    {
      "cell_type": "code",
      "source": [
        "response = conversational_rag_chain.invoke(\n",
        "    {\"input\": \"What is Deep Learning?\"},\n",
        "    config={\"configurable\": {\"session_id\": \"105\"}},\n",
        ")\n",
        "response[\"answer\"]"
      ],
      "metadata": {
        "colab": {
          "base_uri": "https://localhost:8080/",
          "height": 70
        },
        "id": "DWF794B4s-V7",
        "outputId": "ef645e35-ca0b-4823-dbe1-df4c666c6adf"
      },
      "execution_count": 133,
      "outputs": [
        {
          "output_type": "execute_result",
          "data": {
            "text/plain": [
              "'Deep learning is a type of machine learning that uses artificial neural networks to model and solve complex problems. It involves training algorithms to learn from large amounts of data to make predictions or decisions without being explicitly programmed to do so. Deep learning is particularly useful for tasks such as image and speech recognition, natural language processing, and medical diagnosis.'"
            ],
            "application/vnd.google.colaboratory.intrinsic+json": {
              "type": "string"
            }
          },
          "metadata": {},
          "execution_count": 133
        }
      ]
    }
  ],
  "metadata": {
    "colab": {
      "provenance": [],
      "authorship_tag": "ABX9TyPqAvNOVVnI/meL5Fq0+dRe",
      "include_colab_link": true
    },
    "kernelspec": {
      "display_name": "Python 3",
      "name": "python3"
    },
    "language_info": {
      "name": "python"
    }
  },
  "nbformat": 4,
  "nbformat_minor": 0
}