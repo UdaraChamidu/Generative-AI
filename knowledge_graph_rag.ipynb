{
  "nbformat": 4,
  "nbformat_minor": 0,
  "metadata": {
    "colab": {
      "provenance": [],
      "include_colab_link": true
    },
    "kernelspec": {
      "name": "python3",
      "display_name": "Python 3"
    },
    "language_info": {
      "name": "python"
    }
  },
  "cells": [
    {
      "cell_type": "markdown",
      "metadata": {
        "id": "view-in-github",
        "colab_type": "text"
      },
      "source": [
        "<a href=\"https://colab.research.google.com/github/UdaraChamidu/Generative-AI/blob/main/knowledge_graph_rag.ipynb\" target=\"_parent\"><img src=\"https://colab.research.google.com/assets/colab-badge.svg\" alt=\"Open In Colab\"/></a>"
      ]
    },
    {
      "cell_type": "markdown",
      "source": [
        "### Setup and Installation"
      ],
      "metadata": {
        "id": "tilzi1px6-en"
      }
    },
    {
      "cell_type": "code",
      "execution_count": 36,
      "metadata": {
        "id": "MzcNpxmCDV5S"
      },
      "outputs": [],
      "source": [
        "!pip install langchain -q\n",
        "!pip install langchain-community -q\n",
        "!pip install langchain-openai -q\n",
        "!pip install langchain-experimental -q\n",
        "!pip install neo4j -q # graph database"
      ]
    },
    {
      "cell_type": "code",
      "source": [
        "from google.colab import userdata\n",
        "import os\n",
        "\n",
        "import warnings\n",
        "warnings.filterwarnings('ignore')"
      ],
      "metadata": {
        "id": "4WPME5uVUcA8"
      },
      "execution_count": 37,
      "outputs": []
    },
    {
      "cell_type": "markdown",
      "source": [
        "### Initialize OpenAI LLM"
      ],
      "metadata": {
        "id": "sWUOAh_KOcyN"
      }
    },
    {
      "cell_type": "code",
      "source": [
        "from langchain_openai import ChatOpenAI\n",
        "\n",
        "# set OpenAI API key\n",
        "os.environ['OPENAI_API_KEY'] = userdata.get('OPENAI_API_KEY')\n",
        "\n",
        "# initialize the ChatOpenAI model\n",
        "llm = ChatOpenAI(\n",
        "    model=\"gpt-3.5-turbo\",\n",
        "    temperature=0\n",
        ")"
      ],
      "metadata": {
        "id": "vrAyMhQFTl6-"
      },
      "execution_count": 38,
      "outputs": []
    },
    {
      "cell_type": "markdown",
      "source": [
        "### Initialize Embedding Model"
      ],
      "metadata": {
        "id": "ihDeEiUiOgcA"
      }
    },
    {
      "cell_type": "code",
      "source": [
        "from langchain_openai import OpenAIEmbeddings\n",
        "\n",
        "embedding_model = OpenAIEmbeddings(model=\"text-embedding-3-small\")"
      ],
      "metadata": {
        "id": "bBBldP__UHa2"
      },
      "execution_count": 39,
      "outputs": []
    },
    {
      "cell_type": "markdown",
      "source": [
        "### Load Data"
      ],
      "metadata": {
        "id": "LCSECXmeZDcA"
      }
    },
    {
      "cell_type": "code",
      "source": [
        "from langchain.schema import Document\n",
        "\n",
        "# dataset can be anything\n",
        "text = Document(page_content=\"\"\"\n",
        "Three students, A, B, and C, are tackling two subjects, X (Mathematics) and Y (Literature). Each has a unique perspective, weaving their experiences into a shared academic journey. A, gifted in Mathematics, thrives on solving equations but struggles with the abstract world of poetry and storytelling. On the other hand, B shines in Literature, captivating others with a flair for creative writing, yet finds numbers daunting and formulas perplexing.\n",
        "C, a generalist, performs decently in both subjects but often bridges gaps between A and B. While A helps B understand mathematical concepts, B guides A through essay writing. Meanwhile, C organizes group study sessions, offering real-world examples to connect ideas from X and Y, making both subjects more relatable. Their collaboration not only enhances their learning but fosters a sense of camaraderie, demonstrating the power of teamwork in overcoming challenges.\n",
        "\"\"\")"
      ],
      "metadata": {
        "id": "GghHAbEEZIB5"
      },
      "execution_count": 40,
      "outputs": []
    },
    {
      "cell_type": "markdown",
      "source": [
        "### Split Documents into Chunks"
      ],
      "metadata": {
        "id": "J9PlVSJCOnaO"
      }
    },
    {
      "cell_type": "code",
      "source": [
        "from langchain.text_splitter import RecursiveCharacterTextSplitter\n",
        "\n",
        "splitter = RecursiveCharacterTextSplitter(chunk_size=250,chunk_overlap=30)\n",
        "\n",
        "chunks = splitter.split_documents([text])"
      ],
      "metadata": {
        "id": "OohL4NZSU6qv"
      },
      "execution_count": 41,
      "outputs": []
    },
    {
      "cell_type": "code",
      "source": [
        "chunks"
      ],
      "metadata": {
        "colab": {
          "base_uri": "https://localhost:8080/"
        },
        "id": "vvBXYEgqaXTB",
        "outputId": "bcfd27ac-a30b-42eb-ff94-ecfe909e1331"
      },
      "execution_count": 42,
      "outputs": [
        {
          "output_type": "execute_result",
          "data": {
            "text/plain": [
              "[Document(metadata={}, page_content='Three students, A, B, and C, are tackling two subjects, X (Mathematics) and Y (Literature). Each has a unique perspective, weaving their experiences into a shared academic journey. A, gifted in Mathematics, thrives on solving equations but struggles'),\n",
              " Document(metadata={}, page_content='equations but struggles with the abstract world of poetry and storytelling. On the other hand, B shines in Literature, captivating others with a flair for creative writing, yet finds numbers daunting and formulas perplexing.'),\n",
              " Document(metadata={}, page_content='C, a generalist, performs decently in both subjects but often bridges gaps between A and B. While A helps B understand mathematical concepts, B guides A through essay writing. Meanwhile, C organizes group study sessions, offering real-world examples'),\n",
              " Document(metadata={}, page_content='offering real-world examples to connect ideas from X and Y, making both subjects more relatable. Their collaboration not only enhances their learning but fosters a sense of camaraderie, demonstrating the power of teamwork in overcoming challenges.')]"
            ]
          },
          "metadata": {},
          "execution_count": 42
        }
      ]
    },
    {
      "cell_type": "markdown",
      "source": [
        "### Graph Initialization and Transformation"
      ],
      "metadata": {
        "id": "QEYxWeN27RAw"
      }
    },
    {
      "cell_type": "code",
      "source": [
        "from langchain_community.graphs import Neo4jGraph\n",
        "\n",
        "os.environ[\"NEO4J_URI\"] = \"neo4j+s://97bac323.databases.neo4j.io\"\n",
        "os.environ[\"NEO4J_USERNAME\"] = \"neo4j\"\n",
        "os.environ[\"NEO4J_PASSWORD\"] = \"QjBzXJ1ldkcMCoPI7wHM3jBfuCMRnpgAHYSS0A_qIZo\"\n",
        "\n",
        "# initialize Neo4j graph database\n",
        "graph = Neo4jGraph()"
      ],
      "metadata": {
        "id": "NXWVawDlVOtT"
      },
      "execution_count": 43,
      "outputs": []
    },
    {
      "cell_type": "code",
      "source": [
        "from langchain_experimental.graph_transformers import LLMGraphTransformer\n",
        "\n",
        "graph_transformer = LLMGraphTransformer(llm = llm)\n",
        "\n",
        "# identify everything in the text. we do not have to write querys.\n",
        "# this will convert provided document to graph database\n",
        "# can identify nodes, properties and relations"
      ],
      "metadata": {
        "id": "zuvAeybfVYHT"
      },
      "execution_count": 44,
      "outputs": []
    },
    {
      "cell_type": "code",
      "source": [
        "# convert text chunks to graph nodes\n",
        "graph_documents = graph_transformer.convert_to_graph_documents(chunks)"
      ],
      "metadata": {
        "id": "RLtcJajPVZ1D"
      },
      "execution_count": 45,
      "outputs": []
    },
    {
      "cell_type": "code",
      "source": [
        "graph_documents[0]\n",
        "# for first chunk\n",
        "# there are 4 graphs documents. because previously we had 4 chunks."
      ],
      "metadata": {
        "id": "FEh98FI-2B04",
        "colab": {
          "base_uri": "https://localhost:8080/"
        },
        "outputId": "14448a20-6aa6-4b00-d25c-2d7b24c7343a"
      },
      "execution_count": 46,
      "outputs": [
        {
          "output_type": "execute_result",
          "data": {
            "text/plain": [
              "GraphDocument(nodes=[Node(id='A', type='Student', properties={}), Node(id='B', type='Student', properties={}), Node(id='C', type='Student', properties={}), Node(id='X', type='Subject', properties={}), Node(id='Y', type='Subject', properties={}), Node(id='Mathematics', type='Academicsubject', properties={}), Node(id='Literature', type='Academicsubject', properties={})], relationships=[Relationship(source=Node(id='A', type='Student', properties={}), target=Node(id='X', type='Subject', properties={}), type='STUDIES', properties={}), Relationship(source=Node(id='B', type='Student', properties={}), target=Node(id='X', type='Subject', properties={}), type='STUDIES', properties={}), Relationship(source=Node(id='C', type='Student', properties={}), target=Node(id='X', type='Subject', properties={}), type='STUDIES', properties={}), Relationship(source=Node(id='A', type='Student', properties={}), target=Node(id='Y', type='Subject', properties={}), type='STUDIES', properties={})], source=Document(metadata={}, page_content='Three students, A, B, and C, are tackling two subjects, X (Mathematics) and Y (Literature). Each has a unique perspective, weaving their experiences into a shared academic journey. A, gifted in Mathematics, thrives on solving equations but struggles'))"
            ]
          },
          "metadata": {},
          "execution_count": 46
        }
      ]
    },
    {
      "cell_type": "code",
      "source": [
        "for node in graph_documents[0].nodes:\n",
        "  print(node)\n",
        "\n",
        "  # find nodes for 1 st chunk"
      ],
      "metadata": {
        "id": "lKk2VRu95CeV",
        "colab": {
          "base_uri": "https://localhost:8080/"
        },
        "outputId": "5e88e068-89ff-4e1c-b406-e8a8aa25884e"
      },
      "execution_count": 47,
      "outputs": [
        {
          "output_type": "stream",
          "name": "stdout",
          "text": [
            "id='A' type='Student' properties={}\n",
            "id='B' type='Student' properties={}\n",
            "id='C' type='Student' properties={}\n",
            "id='X' type='Subject' properties={}\n",
            "id='Y' type='Subject' properties={}\n",
            "id='Mathematics' type='Academicsubject' properties={}\n",
            "id='Literature' type='Academicsubject' properties={}\n"
          ]
        }
      ]
    },
    {
      "cell_type": "code",
      "source": [
        "for relationship in graph_documents[0].relationships:\n",
        "  print(relationship)"
      ],
      "metadata": {
        "id": "OMhsYFIvVhVS",
        "colab": {
          "base_uri": "https://localhost:8080/"
        },
        "outputId": "ac8728f9-f28d-4e80-d960-aa3d0b3ca854"
      },
      "execution_count": 48,
      "outputs": [
        {
          "output_type": "stream",
          "name": "stdout",
          "text": [
            "source=Node(id='A', type='Student', properties={}) target=Node(id='X', type='Subject', properties={}) type='STUDIES' properties={}\n",
            "source=Node(id='B', type='Student', properties={}) target=Node(id='X', type='Subject', properties={}) type='STUDIES' properties={}\n",
            "source=Node(id='C', type='Student', properties={}) target=Node(id='X', type='Subject', properties={}) type='STUDIES' properties={}\n",
            "source=Node(id='A', type='Student', properties={}) target=Node(id='Y', type='Subject', properties={}) type='STUDIES' properties={}\n"
          ]
        }
      ]
    },
    {
      "cell_type": "code",
      "source": [
        "# add nodes and relationships to graph\n",
        "# these things goes to the web site...\n",
        "graph.add_graph_documents(\n",
        "    graph_documents,\n",
        "    baseEntityLabel=True,\n",
        "    include_source=True\n",
        ")"
      ],
      "metadata": {
        "id": "Asm7LYVgVlAy"
      },
      "execution_count": 49,
      "outputs": []
    },
    {
      "cell_type": "code",
      "source": [
        "# indexing enables fast searches within text-based properties\n",
        "# this is a cyper query\n",
        "# indexing\n",
        "def create_fulltext_index(g):\n",
        "  cypher = \"CREATE FULLTEXT INDEX entity IF NOT EXISTS FOR (e:__Entity__) ON EACH [e.id]\"\n",
        "  g.query(cypher)\n",
        "\n",
        "create_fulltext_index(graph)"
      ],
      "metadata": {
        "id": "Uc8Mo8fXIpOa"
      },
      "execution_count": 50,
      "outputs": []
    },
    {
      "cell_type": "markdown",
      "source": [
        "# Take outputs from graph database"
      ],
      "metadata": {
        "id": "G7K_ExhwiBUz"
      }
    },
    {
      "cell_type": "markdown",
      "source": [
        "### Querying the Graph and Entity Retrieval"
      ],
      "metadata": {
        "id": "glvWsI-cOuyE"
      }
    },
    {
      "cell_type": "code",
      "source": [
        "from langchain_core.prompts import ChatPromptTemplate\n",
        "\n",
        "entity_prompt = ChatPromptTemplate.from_messages(\n",
        "    [\n",
        "        (\n",
        "            \"system\",\"You are extracting entities from the text.\", # tell to identify entities in the user input.\n",
        "        ),\n",
        "        (\n",
        "            \"human\",\"Use the following information to extract entities\"\n",
        "            \"input: {question}\",\n",
        "        ),\n",
        "    ]\n",
        ")"
      ],
      "metadata": {
        "id": "CVwz1sgAH8iC"
      },
      "execution_count": 51,
      "outputs": []
    },
    {
      "cell_type": "code",
      "source": [
        "# take entities as a list\n",
        "\n",
        "from pydantic import BaseModel, Field\n",
        "from typing import List\n",
        "\n",
        "class Entities(BaseModel):\n",
        "    names: List[str] = Field(\n",
        "        ...,\n",
        "        description=\"All the entities that appear in the text\",\n",
        "    )"
      ],
      "metadata": {
        "id": "XGLLrMPcJ71i"
      },
      "execution_count": 52,
      "outputs": []
    },
    {
      "cell_type": "code",
      "source": [
        "entity_chain = (\n",
        "    entity_prompt\n",
        "    | llm.with_structured_output(Entities)\n",
        ")\n",
        "\n",
        "# entity prompt and llm given.\n",
        "# structure output needed"
      ],
      "metadata": {
        "id": "OvKwXkaNKcMx"
      },
      "execution_count": 53,
      "outputs": []
    },
    {
      "cell_type": "code",
      "source": [
        "# check it can or cant find entities in a given sentence according to graph database.\n",
        "entity_chain.invoke({\"question\": \"who learn both X and Y subjects\"}).names\n",
        "\n",
        "# # model can identify entities now.\n"
      ],
      "metadata": {
        "id": "wAM8QQO7Khpa",
        "colab": {
          "base_uri": "https://localhost:8080/"
        },
        "outputId": "d2781d28-db4e-4e08-d883-f452500dbbce"
      },
      "execution_count": 54,
      "outputs": [
        {
          "output_type": "execute_result",
          "data": {
            "text/plain": [
              "['X', 'Y']"
            ]
          },
          "metadata": {},
          "execution_count": 54
        }
      ]
    },
    {
      "cell_type": "markdown",
      "source": [
        "# Find data for user query from graph database"
      ],
      "metadata": {
        "id": "ljaal9cnkXZH"
      }
    },
    {
      "cell_type": "markdown",
      "source": [
        "### Graph Retriever"
      ],
      "metadata": {
        "id": "VYhF7SGE8xZ4"
      }
    },
    {
      "cell_type": "markdown",
      "source": [
        "Lucene chars: https://api.python.langchain.com/en/latest/_modules/langchain_community/vectorstores/neo4j_vector.html#remove_lucene_chars"
      ],
      "metadata": {
        "id": "0fkdU_J_LVU2"
      }
    },
    {
      "cell_type": "code",
      "source": [
        "from langchain_community.vectorstores.neo4j_vector import remove_lucene_chars\n",
        "# use to remove some unnecessory parts\n",
        "\n",
        "def generate_full_text_query(input):\n",
        "    full_text_query = \"\"\n",
        "    words = [el for el in remove_lucene_chars(input).split() if el]\n",
        "    for word in words[:-1]:\n",
        "        full_text_query += f\" {word}~2 AND\"\n",
        "    full_text_query += f\" {words[-1]}~2\"\n",
        "    return full_text_query.strip()\n",
        "\n",
        "def graph_retriever(question: str) -> str:\n",
        "    result = \"\"\n",
        "    entities = entity_chain.invoke({\"question\": question})\n",
        "    for entity in entities.names:\n",
        "        response = graph.query(  # cyper query\n",
        "            \"\"\"CALL db.index.fulltext.queryNodes('entity', $query, {limit:2})\n",
        "            YIELD node,score\n",
        "            CALL {\n",
        "              WITH node\n",
        "              MATCH (node)-[r:!MENTIONS]->(neighbor)\n",
        "              RETURN node.id + ' - ' + type(r) + ' -> ' + neighbor.id AS output\n",
        "              UNION ALL\n",
        "              WITH node\n",
        "              MATCH (node)<-[r:!MENTIONS]-(neighbor)\n",
        "              RETURN neighbor.id + ' - ' + type(r) + ' -> ' +  node.id AS output\n",
        "            }\n",
        "            RETURN output LIMIT 20\n",
        "            \"\"\",\n",
        "            {\"query\": generate_full_text_query(entity)},\n",
        "        )\n",
        "        result += \"\\n\".join([el['output'] for el in response])\n",
        "    return result\n",
        "\n",
        "# first give the question, find the entities which need for it, take some information from graph database according to user input query"
      ],
      "metadata": {
        "id": "o7NBlIQkKxDf"
      },
      "execution_count": 55,
      "outputs": []
    },
    {
      "cell_type": "code",
      "source": [
        "print(graph_retriever(\"who learn both X and Y subjects\"))\n",
        "\n",
        "# graph database give many results for x and y\n",
        "# working !"
      ],
      "metadata": {
        "id": "y85P76SKKzsG",
        "colab": {
          "base_uri": "https://localhost:8080/"
        },
        "outputId": "5fabed33-ed0b-4a14-ea56-3bf9bf3e3791"
      },
      "execution_count": 56,
      "outputs": [
        {
          "output_type": "stream",
          "name": "stderr",
          "text": [
            "WARNING:neo4j.notifications:Received notification from DBMS server: {severity: WARNING} {code: Neo.ClientNotification.Statement.FeatureDeprecationWarning} {category: DEPRECATION} {title: This feature is deprecated and will be removed in future versions.} {description: CALL subquery without a variable scope clause is now deprecated. Use CALL (node, node) { ... }} {position: line: 3, column: 13, offset: 104} for query: \"CALL db.index.fulltext.queryNodes('entity', $query, {limit:2})\\n            YIELD node,score\\n            CALL {\\n              WITH node\\n              MATCH (node)-[r:!MENTIONS]->(neighbor)\\n              RETURN node.id + ' - ' + type(r) + ' -> ' + neighbor.id AS output\\n              UNION ALL\\n              WITH node\\n              MATCH (node)<-[r:!MENTIONS]-(neighbor)\\n              RETURN neighbor.id + ' - ' + type(r) + ' -> ' +  node.id AS output\\n            }\\n            RETURN output LIMIT 20\\n            \"\n",
            "WARNING:neo4j.notifications:Received notification from DBMS server: {severity: WARNING} {code: Neo.ClientNotification.Statement.FeatureDeprecationWarning} {category: DEPRECATION} {title: This feature is deprecated and will be removed in future versions.} {description: CALL subquery without a variable scope clause is now deprecated. Use CALL (node, node) { ... }} {position: line: 3, column: 13, offset: 104} for query: \"CALL db.index.fulltext.queryNodes('entity', $query, {limit:2})\\n            YIELD node,score\\n            CALL {\\n              WITH node\\n              MATCH (node)-[r:!MENTIONS]->(neighbor)\\n              RETURN node.id + ' - ' + type(r) + ' -> ' + neighbor.id AS output\\n              UNION ALL\\n              WITH node\\n              MATCH (node)<-[r:!MENTIONS]-(neighbor)\\n              RETURN neighbor.id + ' - ' + type(r) + ' -> ' +  node.id AS output\\n            }\\n            RETURN output LIMIT 20\\n            \"\n"
          ]
        },
        {
          "output_type": "stream",
          "name": "stdout",
          "text": [
            "X - ENHANCES -> Learning\n",
            "X - ENHANCES -> Collaboration\n",
            "X - FOSTERS -> Camaraderie\n",
            "A - STUDIES -> X\n",
            "B - STUDIES -> X\n",
            "C - STUDIES -> X\n",
            "Real-World Examples - ILLUSTRATES -> X\n",
            "B - STUDIES -> X\n",
            "B - EXCELS_IN -> Literature\n",
            "B - STRUGGLES_WITH -> Mathematics\n",
            "B - GUIDES_THROUGH -> A\n",
            "B - GUIDES_WRITING -> A\n",
            "C - BRIDGES_GAPS -> B\n",
            "A - HELPS_UNDERSTAND -> B\n",
            "A - GUIDES_UNDERSTANDING -> BY - ENHANCES -> Learning\n",
            "Y - ENHANCES -> Collaboration\n",
            "Y - FOSTERS -> Camaraderie\n",
            "A - STUDIES -> Y\n",
            "Real-World Examples - ILLUSTRATES -> Y\n",
            "B - STUDIES -> X\n",
            "B - EXCELS_IN -> Literature\n",
            "B - STRUGGLES_WITH -> Mathematics\n",
            "B - GUIDES_THROUGH -> A\n",
            "B - GUIDES_WRITING -> A\n",
            "C - BRIDGES_GAPS -> B\n",
            "A - HELPS_UNDERSTAND -> B\n",
            "A - GUIDES_UNDERSTANDING -> B\n"
          ]
        }
      ]
    },
    {
      "cell_type": "markdown",
      "source": [
        "# Add Hybrid Search"
      ],
      "metadata": {
        "id": "5tch2sO3mhyh"
      }
    },
    {
      "cell_type": "markdown",
      "source": [
        "### Semantic Search Retriever"
      ],
      "metadata": {
        "id": "iaXlDNGf87G0"
      }
    },
    {
      "cell_type": "code",
      "source": [
        "# We can use vector search  through neo4j database.\n",
        "\n",
        "from langchain_community.vectorstores import Neo4jVector\n",
        "\n",
        "vector_index = Neo4jVector.from_existing_graph(\n",
        "    embedding_model,\n",
        "    search_type=\"hybrid\",\n",
        "    node_label=\"Document\",\n",
        "    text_node_properties=[\"text\"],\n",
        "    embedding_node_property=\"embedding\"\n",
        ")"
      ],
      "metadata": {
        "id": "Qw8o2tXhJORQ"
      },
      "execution_count": 57,
      "outputs": []
    },
    {
      "cell_type": "code",
      "source": [
        "vector_index.similarity_search(\"who learn both X and Y subjects\", k=2)\n",
        "# similarity search\n",
        "# 2 documents retrieved"
      ],
      "metadata": {
        "id": "_9Lj-s8CGWNd",
        "colab": {
          "base_uri": "https://localhost:8080/"
        },
        "outputId": "c4af53b0-0b94-463e-ada6-daac87ac9afd"
      },
      "execution_count": 58,
      "outputs": [
        {
          "output_type": "stream",
          "name": "stderr",
          "text": [
            "WARNING:neo4j.notifications:Received notification from DBMS server: {severity: WARNING} {code: Neo.ClientNotification.Statement.FeatureDeprecationWarning} {category: DEPRECATION} {title: This feature is deprecated and will be removed in future versions.} {description: CALL subquery without a variable scope clause is now deprecated. Use CALL () { ... }} {position: line: 1, column: 1, offset: 0} for query: \"CALL { CALL db.index.vector.queryNodes($index, $k, $embedding) YIELD node, score WITH collect({node:node, score:score}) AS nodes, max(score) AS max UNWIND nodes AS n RETURN n.node AS node, (n.score / max) AS score UNION CALL db.index.fulltext.queryNodes($keyword_index, $query, {limit: $k}) YIELD node, score WITH collect({node:node, score:score}) AS nodes, max(score) AS max UNWIND nodes AS n RETURN n.node AS node, (n.score / max) AS score } WITH node, max(score) AS score ORDER BY score DESC LIMIT $k RETURN reduce(str='', k IN ['text'] | str + '\\\\n' + k + ': ' + coalesce(node[k], '')) AS text, node {.*, `embedding`: Null, id: Null, `text`: Null} AS metadata, score\"\n"
          ]
        },
        {
          "output_type": "execute_result",
          "data": {
            "text/plain": [
              "[Document(metadata={}, page_content='\\ntext: Three students, A, B, and C, are tackling two subjects, X (Mathematics) and Y (Literature). Each has a unique perspective, weaving their experiences into a shared academic journey. A, gifted in Mathematics, thrives on solving equations but struggles'),\n",
              " Document(metadata={}, page_content='\\ntext: offering real-world examples to connect ideas from X and Y, making both subjects more relatable. Their collaboration not only enhances their learning but fosters a sense of camaraderie, demonstrating the power of teamwork in overcoming challenges.')]"
            ]
          },
          "metadata": {},
          "execution_count": 58
        }
      ]
    },
    {
      "cell_type": "code",
      "source": [
        "# this retriever can perform graph search and semantic search\n",
        "\n",
        "def retriever(question):\n",
        "    graph_search_result = graph_retriever(question)\n",
        "    semantic_search_result = [data.page_content for data in vector_index.similarity_search(question, k=2)]\n",
        "    final_data = f\"Graph data:{graph_search_result}\\nText data:{' '. join(semantic_search_result)}\"  # combine\n",
        "    return final_data\n",
        "\n",
        "# final content from retriever\n",
        "# this give to llm"
      ],
      "metadata": {
        "id": "q5XCbyPYK4cE"
      },
      "execution_count": 59,
      "outputs": []
    },
    {
      "cell_type": "markdown",
      "source": [
        "### Define Prompt Template for RAG"
      ],
      "metadata": {
        "id": "M0FAHnGuOzed"
      }
    },
    {
      "cell_type": "code",
      "source": [
        "from langchain_core.prompts import ChatPromptTemplate\n",
        "\n",
        "prompt = ChatPromptTemplate.from_messages(\n",
        "    [\n",
        "        (\n",
        "            \"system\",\"Answer this question using the provided context only.\",\n",
        "        ),\n",
        "        (\n",
        "            \"human\",\"Context: {context}\"\n",
        "            \"Question: {question}\",\n",
        "        ),\n",
        "    ]\n",
        ")"
      ],
      "metadata": {
        "id": "f_8XTsDZMkHj"
      },
      "execution_count": 60,
      "outputs": []
    },
    {
      "cell_type": "markdown",
      "source": [
        "### Create RAG Chain"
      ],
      "metadata": {
        "id": "Wx5rRv_RO6le"
      }
    },
    {
      "cell_type": "code",
      "source": [
        "from langchain_core.runnables import RunnablePassthrough\n",
        "\n",
        "chain = (\n",
        "    {\n",
        "      \"context\": retriever,\n",
        "      \"question\": RunnablePassthrough()\n",
        "    }\n",
        "    | prompt\n",
        "    | llm\n",
        ")"
      ],
      "metadata": {
        "id": "PeinHlcuLXdS"
      },
      "execution_count": 61,
      "outputs": []
    },
    {
      "cell_type": "markdown",
      "source": [
        "### Invoke RAG Chain with Example Questions"
      ],
      "metadata": {
        "id": "LI7ZX-5xO_Us"
      }
    },
    {
      "cell_type": "code",
      "source": [
        "response = chain.invoke(\"who learn both X and Y subjects\")\n",
        "\n",
        "print(response.content)"
      ],
      "metadata": {
        "id": "FuAdFYBFLhXP",
        "colab": {
          "base_uri": "https://localhost:8080/"
        },
        "outputId": "d3f40243-8335-40af-90c4-495a28416595"
      },
      "execution_count": 62,
      "outputs": [
        {
          "output_type": "stream",
          "name": "stderr",
          "text": [
            "WARNING:neo4j.notifications:Received notification from DBMS server: {severity: WARNING} {code: Neo.ClientNotification.Statement.FeatureDeprecationWarning} {category: DEPRECATION} {title: This feature is deprecated and will be removed in future versions.} {description: CALL subquery without a variable scope clause is now deprecated. Use CALL (node, node) { ... }} {position: line: 3, column: 13, offset: 104} for query: \"CALL db.index.fulltext.queryNodes('entity', $query, {limit:2})\\n            YIELD node,score\\n            CALL {\\n              WITH node\\n              MATCH (node)-[r:!MENTIONS]->(neighbor)\\n              RETURN node.id + ' - ' + type(r) + ' -> ' + neighbor.id AS output\\n              UNION ALL\\n              WITH node\\n              MATCH (node)<-[r:!MENTIONS]-(neighbor)\\n              RETURN neighbor.id + ' - ' + type(r) + ' -> ' +  node.id AS output\\n            }\\n            RETURN output LIMIT 20\\n            \"\n",
            "WARNING:neo4j.notifications:Received notification from DBMS server: {severity: WARNING} {code: Neo.ClientNotification.Statement.FeatureDeprecationWarning} {category: DEPRECATION} {title: This feature is deprecated and will be removed in future versions.} {description: CALL subquery without a variable scope clause is now deprecated. Use CALL (node, node) { ... }} {position: line: 3, column: 13, offset: 104} for query: \"CALL db.index.fulltext.queryNodes('entity', $query, {limit:2})\\n            YIELD node,score\\n            CALL {\\n              WITH node\\n              MATCH (node)-[r:!MENTIONS]->(neighbor)\\n              RETURN node.id + ' - ' + type(r) + ' -> ' + neighbor.id AS output\\n              UNION ALL\\n              WITH node\\n              MATCH (node)<-[r:!MENTIONS]-(neighbor)\\n              RETURN neighbor.id + ' - ' + type(r) + ' -> ' +  node.id AS output\\n            }\\n            RETURN output LIMIT 20\\n            \"\n",
            "WARNING:neo4j.notifications:Received notification from DBMS server: {severity: WARNING} {code: Neo.ClientNotification.Statement.FeatureDeprecationWarning} {category: DEPRECATION} {title: This feature is deprecated and will be removed in future versions.} {description: CALL subquery without a variable scope clause is now deprecated. Use CALL () { ... }} {position: line: 1, column: 1, offset: 0} for query: \"CALL { CALL db.index.vector.queryNodes($index, $k, $embedding) YIELD node, score WITH collect({node:node, score:score}) AS nodes, max(score) AS max UNWIND nodes AS n RETURN n.node AS node, (n.score / max) AS score UNION CALL db.index.fulltext.queryNodes($keyword_index, $query, {limit: $k}) YIELD node, score WITH collect({node:node, score:score}) AS nodes, max(score) AS max UNWIND nodes AS n RETURN n.node AS node, (n.score / max) AS score } WITH node, max(score) AS score ORDER BY score DESC LIMIT $k RETURN reduce(str='', k IN ['text'] | str + '\\\\n' + k + ': ' + coalesce(node[k], '')) AS text, node {.*, `embedding`: Null, id: Null, `text`: Null} AS metadata, score\"\n"
          ]
        },
        {
          "output_type": "stream",
          "name": "stdout",
          "text": [
            "Students A and B learn both X (Mathematics) and Y (Literature) subjects.\n"
          ]
        }
      ]
    },
    {
      "cell_type": "code",
      "source": [
        "response = chain.invoke(\"who are the students in that school\")\n",
        "\n",
        "print(response.content)"
      ],
      "metadata": {
        "id": "y1vYfSxm5SLk",
        "colab": {
          "base_uri": "https://localhost:8080/"
        },
        "outputId": "77e384f2-b3b8-4123-ca02-f39b4553fdc9"
      },
      "execution_count": 63,
      "outputs": [
        {
          "output_type": "stream",
          "name": "stderr",
          "text": [
            "WARNING:neo4j.notifications:Received notification from DBMS server: {severity: WARNING} {code: Neo.ClientNotification.Statement.FeatureDeprecationWarning} {category: DEPRECATION} {title: This feature is deprecated and will be removed in future versions.} {description: CALL subquery without a variable scope clause is now deprecated. Use CALL (node, node) { ... }} {position: line: 3, column: 13, offset: 104} for query: \"CALL db.index.fulltext.queryNodes('entity', $query, {limit:2})\\n            YIELD node,score\\n            CALL {\\n              WITH node\\n              MATCH (node)-[r:!MENTIONS]->(neighbor)\\n              RETURN node.id + ' - ' + type(r) + ' -> ' + neighbor.id AS output\\n              UNION ALL\\n              WITH node\\n              MATCH (node)<-[r:!MENTIONS]-(neighbor)\\n              RETURN neighbor.id + ' - ' + type(r) + ' -> ' +  node.id AS output\\n            }\\n            RETURN output LIMIT 20\\n            \"\n",
            "WARNING:neo4j.notifications:Received notification from DBMS server: {severity: WARNING} {code: Neo.ClientNotification.Statement.FeatureDeprecationWarning} {category: DEPRECATION} {title: This feature is deprecated and will be removed in future versions.} {description: CALL subquery without a variable scope clause is now deprecated. Use CALL (node, node) { ... }} {position: line: 3, column: 13, offset: 104} for query: \"CALL db.index.fulltext.queryNodes('entity', $query, {limit:2})\\n            YIELD node,score\\n            CALL {\\n              WITH node\\n              MATCH (node)-[r:!MENTIONS]->(neighbor)\\n              RETURN node.id + ' - ' + type(r) + ' -> ' + neighbor.id AS output\\n              UNION ALL\\n              WITH node\\n              MATCH (node)<-[r:!MENTIONS]-(neighbor)\\n              RETURN neighbor.id + ' - ' + type(r) + ' -> ' +  node.id AS output\\n            }\\n            RETURN output LIMIT 20\\n            \"\n",
            "WARNING:neo4j.notifications:Received notification from DBMS server: {severity: WARNING} {code: Neo.ClientNotification.Statement.FeatureDeprecationWarning} {category: DEPRECATION} {title: This feature is deprecated and will be removed in future versions.} {description: CALL subquery without a variable scope clause is now deprecated. Use CALL () { ... }} {position: line: 1, column: 1, offset: 0} for query: \"CALL { CALL db.index.vector.queryNodes($index, $k, $embedding) YIELD node, score WITH collect({node:node, score:score}) AS nodes, max(score) AS max UNWIND nodes AS n RETURN n.node AS node, (n.score / max) AS score UNION CALL db.index.fulltext.queryNodes($keyword_index, $query, {limit: $k}) YIELD node, score WITH collect({node:node, score:score}) AS nodes, max(score) AS max UNWIND nodes AS n RETURN n.node AS node, (n.score / max) AS score } WITH node, max(score) AS score ORDER BY score DESC LIMIT $k RETURN reduce(str='', k IN ['text'] | str + '\\\\n' + k + ': ' + coalesce(node[k], '')) AS text, node {.*, `embedding`: Null, id: Null, `text`: Null} AS metadata, score\"\n"
          ]
        },
        {
          "output_type": "stream",
          "name": "stdout",
          "text": [
            "The students in that school are A, B, and C.\n"
          ]
        }
      ]
    }
  ]
}